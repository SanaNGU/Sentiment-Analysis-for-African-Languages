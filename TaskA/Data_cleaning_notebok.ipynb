{
  "nbformat": 4,
  "nbformat_minor": 0,
  "metadata": {
    "colab": {
      "provenance": []
    },
    "kernelspec": {
      "name": "python3",
      "display_name": "Python 3"
    },
    "language_info": {
      "name": "python"
    }
  },
  "cells": [
    {
      "cell_type": "code",
      "source": [
        "! pip install demoji"
      ],
      "metadata": {
        "colab": {
          "base_uri": "https://localhost:8080/"
        },
        "id": "mf1uM7sJQVcI",
        "outputId": "ed6953ec-d3cc-4ae4-909b-03b23ad3438d"
      },
      "execution_count": null,
      "outputs": [
        {
          "output_type": "stream",
          "name": "stdout",
          "text": [
            "Looking in indexes: https://pypi.org/simple, https://us-python.pkg.dev/colab-wheels/public/simple/\n",
            "Requirement already satisfied: demoji in /usr/local/lib/python3.8/dist-packages (1.1.0)\n"
          ]
        }
      ]
    },
    {
      "cell_type": "code",
      "source": [
        "import pandas as pd\n",
        "import numpy as np\n",
        "#data processing\n",
        "import re, string\n",
        "import demoji"
      ],
      "metadata": {
        "id": "CC6FLRDVGOnC"
      },
      "execution_count": null,
      "outputs": []
    },
    {
      "cell_type": "code",
      "source": [
        "df = pd.read_csv('/content/drive/MyDrive/TaskA/dev/yo_dev.tsv',sep = '\\t')"
      ],
      "metadata": {
        "id": "2vm9W6TiGa2D"
      },
      "execution_count": null,
      "outputs": []
    },
    {
      "cell_type": "code",
      "source": [
        "df.shape"
      ],
      "metadata": {
        "colab": {
          "base_uri": "https://localhost:8080/"
        },
        "id": "aP4rjtHbuPUa",
        "outputId": "e04e1f9d-ce79-4ec2-c87e-e33a4b0350f3"
      },
      "execution_count": null,
      "outputs": [
        {
          "output_type": "execute_result",
          "data": {
            "text/plain": [
              "(2090, 2)"
            ]
          },
          "metadata": {},
          "execution_count": 266
        }
      ]
    },
    {
      "cell_type": "code",
      "source": [
        "df.head(25)"
      ],
      "metadata": {
        "colab": {
          "base_uri": "https://localhost:8080/",
          "height": 833
        },
        "id": "zjBbv7k1iD_Z",
        "outputId": "a08f33da-d30d-4372-85d6-e9c5918406ce"
      },
      "execution_count": null,
      "outputs": [
        {
          "output_type": "execute_result",
          "data": {
            "text/plain": [
              "              ID                                              tweet\n",
              "0   yo_dev_00001  Olódùmarè fúnmi láyọ̀ lọ́jọ́ òní. Sọ tèmi dire...\n",
              "1   yo_dev_00002  RT @user: @user oni je ojo Eti Rere nitori nip...\n",
              "2   yo_dev_00003              ♫ K'áwa máà m'òṣì k'á tó lọ láyé... ♪\n",
              "3   yo_dev_00004  Mélòó la fẹ́ kà l'éyín adípèlé? Mélòó la fẹ́ k...\n",
              "4   yo_dev_00005  Gbogbo ọmọ #Nigeria, a kú òní o. A kú ọjọ́ òmì...\n",
              "5   yo_dev_00006  .@user ti bo lewon o, wan ti tu Ogbeni Adeyink...\n",
              "6   yo_dev_00007                      RT @user: @user, emi ase pupo\n",
              "7   yo_dev_00008  @user hmm! Daadaa la ji o... Oro ologbon lati ...\n",
              "8   yo_dev_00009  • Mo rọ̀ yín gẹ́gẹ́ bí Aláṣẹ @user kí ẹ ṣe àgb...\n",
              "9   yo_dev_00010  @user Ẹ kú ìrànlọ́wọ́ wa o. Màá jẹ́ kí ẹ gbọ́ ...\n",
              "10  yo_dev_00011  RT @user: Baba oshe oshe, awa dupe lowo re, lw...\n",
              "11  yo_dev_00012  @user Happy birthday ọmọ mummy, àṣèyí ṣàmọ́dún...\n",
              "12  yo_dev_00013  RT @user: Koko lara ota le\"\"\"\"\"\"\"\"\"\"\"\"\"\"\"\"@use...\n",
              "13  yo_dev_00014  Bí alẹ́ bá lẹ́, à á fi ọmọ ayò f'áyò. Ó di ojú...\n",
              "14  yo_dev_00015  RT @user: \"\"\"\"\"\"\"\"\"\"\"\"\"\"\"\"@user: \"\"\"\"\"\"\"\"\"\"\"\"\"...\n",
              "15  yo_dev_00016  RT @user: @user Ah, a dúpé l'ówó Elédùwà sà. E...\n",
              "16  yo_dev_00017             Fàájì Ọjọ́-Àbámẹ́ta yìí, ó le kú ni o!\n",
              "17  yo_dev_00018  ♫ Nàìjíríà yìí ti gbogbo wa ni, kò máà gbọ́dọ̀...\n",
              "18  yo_dev_00019  Olohun maa fi ikan gbakan lowomi🙏 #Yoruba http...\n",
              "19  yo_dev_00020                      @user rere ló pé, ìkà ò pé o.\n",
              "20  yo_dev_00021          #TweetinYoruba ekale ooo, se daadaa le wa\n",
              "21  yo_dev_00022             RT @user: Oluwa ose to daa mi lobirin.\n",
              "22  yo_dev_00023         Ẹ kú ojúmọ́ o. Ẹ kú ọjọ́ Ajẹ́ yìí. #ekaaro\n",
              "23  yo_dev_00024  @user @user @user @user @user @user Ẹ kú ìsinm...\n",
              "24  yo_dev_00025  RT @user: Òjíjí bá jí wọn, ẹnikẹ́ni tí ìrànlọ́..."
            ],
            "text/html": [
              "\n",
              "  <div id=\"df-875fbb5a-5ecc-4c61-a982-27ae84a11354\">\n",
              "    <div class=\"colab-df-container\">\n",
              "      <div>\n",
              "<style scoped>\n",
              "    .dataframe tbody tr th:only-of-type {\n",
              "        vertical-align: middle;\n",
              "    }\n",
              "\n",
              "    .dataframe tbody tr th {\n",
              "        vertical-align: top;\n",
              "    }\n",
              "\n",
              "    .dataframe thead th {\n",
              "        text-align: right;\n",
              "    }\n",
              "</style>\n",
              "<table border=\"1\" class=\"dataframe\">\n",
              "  <thead>\n",
              "    <tr style=\"text-align: right;\">\n",
              "      <th></th>\n",
              "      <th>ID</th>\n",
              "      <th>tweet</th>\n",
              "    </tr>\n",
              "  </thead>\n",
              "  <tbody>\n",
              "    <tr>\n",
              "      <th>0</th>\n",
              "      <td>yo_dev_00001</td>\n",
              "      <td>Olódùmarè fúnmi láyọ̀ lọ́jọ́ òní. Sọ tèmi dire...</td>\n",
              "    </tr>\n",
              "    <tr>\n",
              "      <th>1</th>\n",
              "      <td>yo_dev_00002</td>\n",
              "      <td>RT @user: @user oni je ojo Eti Rere nitori nip...</td>\n",
              "    </tr>\n",
              "    <tr>\n",
              "      <th>2</th>\n",
              "      <td>yo_dev_00003</td>\n",
              "      <td>♫ K'áwa máà m'òṣì k'á tó lọ láyé... ♪</td>\n",
              "    </tr>\n",
              "    <tr>\n",
              "      <th>3</th>\n",
              "      <td>yo_dev_00004</td>\n",
              "      <td>Mélòó la fẹ́ kà l'éyín adípèlé? Mélòó la fẹ́ k...</td>\n",
              "    </tr>\n",
              "    <tr>\n",
              "      <th>4</th>\n",
              "      <td>yo_dev_00005</td>\n",
              "      <td>Gbogbo ọmọ #Nigeria, a kú òní o. A kú ọjọ́ òmì...</td>\n",
              "    </tr>\n",
              "    <tr>\n",
              "      <th>5</th>\n",
              "      <td>yo_dev_00006</td>\n",
              "      <td>.@user ti bo lewon o, wan ti tu Ogbeni Adeyink...</td>\n",
              "    </tr>\n",
              "    <tr>\n",
              "      <th>6</th>\n",
              "      <td>yo_dev_00007</td>\n",
              "      <td>RT @user: @user, emi ase pupo</td>\n",
              "    </tr>\n",
              "    <tr>\n",
              "      <th>7</th>\n",
              "      <td>yo_dev_00008</td>\n",
              "      <td>@user hmm! Daadaa la ji o... Oro ologbon lati ...</td>\n",
              "    </tr>\n",
              "    <tr>\n",
              "      <th>8</th>\n",
              "      <td>yo_dev_00009</td>\n",
              "      <td>• Mo rọ̀ yín gẹ́gẹ́ bí Aláṣẹ @user kí ẹ ṣe àgb...</td>\n",
              "    </tr>\n",
              "    <tr>\n",
              "      <th>9</th>\n",
              "      <td>yo_dev_00010</td>\n",
              "      <td>@user Ẹ kú ìrànlọ́wọ́ wa o. Màá jẹ́ kí ẹ gbọ́ ...</td>\n",
              "    </tr>\n",
              "    <tr>\n",
              "      <th>10</th>\n",
              "      <td>yo_dev_00011</td>\n",
              "      <td>RT @user: Baba oshe oshe, awa dupe lowo re, lw...</td>\n",
              "    </tr>\n",
              "    <tr>\n",
              "      <th>11</th>\n",
              "      <td>yo_dev_00012</td>\n",
              "      <td>@user Happy birthday ọmọ mummy, àṣèyí ṣàmọ́dún...</td>\n",
              "    </tr>\n",
              "    <tr>\n",
              "      <th>12</th>\n",
              "      <td>yo_dev_00013</td>\n",
              "      <td>RT @user: Koko lara ota le\"\"\"\"\"\"\"\"\"\"\"\"\"\"\"\"@use...</td>\n",
              "    </tr>\n",
              "    <tr>\n",
              "      <th>13</th>\n",
              "      <td>yo_dev_00014</td>\n",
              "      <td>Bí alẹ́ bá lẹ́, à á fi ọmọ ayò f'áyò. Ó di ojú...</td>\n",
              "    </tr>\n",
              "    <tr>\n",
              "      <th>14</th>\n",
              "      <td>yo_dev_00015</td>\n",
              "      <td>RT @user: \"\"\"\"\"\"\"\"\"\"\"\"\"\"\"\"@user: \"\"\"\"\"\"\"\"\"\"\"\"\"...</td>\n",
              "    </tr>\n",
              "    <tr>\n",
              "      <th>15</th>\n",
              "      <td>yo_dev_00016</td>\n",
              "      <td>RT @user: @user Ah, a dúpé l'ówó Elédùwà sà. E...</td>\n",
              "    </tr>\n",
              "    <tr>\n",
              "      <th>16</th>\n",
              "      <td>yo_dev_00017</td>\n",
              "      <td>Fàájì Ọjọ́-Àbámẹ́ta yìí, ó le kú ni o!</td>\n",
              "    </tr>\n",
              "    <tr>\n",
              "      <th>17</th>\n",
              "      <td>yo_dev_00018</td>\n",
              "      <td>♫ Nàìjíríà yìí ti gbogbo wa ni, kò máà gbọ́dọ̀...</td>\n",
              "    </tr>\n",
              "    <tr>\n",
              "      <th>18</th>\n",
              "      <td>yo_dev_00019</td>\n",
              "      <td>Olohun maa fi ikan gbakan lowomi🙏 #Yoruba http...</td>\n",
              "    </tr>\n",
              "    <tr>\n",
              "      <th>19</th>\n",
              "      <td>yo_dev_00020</td>\n",
              "      <td>@user rere ló pé, ìkà ò pé o.</td>\n",
              "    </tr>\n",
              "    <tr>\n",
              "      <th>20</th>\n",
              "      <td>yo_dev_00021</td>\n",
              "      <td>#TweetinYoruba ekale ooo, se daadaa le wa</td>\n",
              "    </tr>\n",
              "    <tr>\n",
              "      <th>21</th>\n",
              "      <td>yo_dev_00022</td>\n",
              "      <td>RT @user: Oluwa ose to daa mi lobirin.</td>\n",
              "    </tr>\n",
              "    <tr>\n",
              "      <th>22</th>\n",
              "      <td>yo_dev_00023</td>\n",
              "      <td>Ẹ kú ojúmọ́ o. Ẹ kú ọjọ́ Ajẹ́ yìí. #ekaaro</td>\n",
              "    </tr>\n",
              "    <tr>\n",
              "      <th>23</th>\n",
              "      <td>yo_dev_00024</td>\n",
              "      <td>@user @user @user @user @user @user Ẹ kú ìsinm...</td>\n",
              "    </tr>\n",
              "    <tr>\n",
              "      <th>24</th>\n",
              "      <td>yo_dev_00025</td>\n",
              "      <td>RT @user: Òjíjí bá jí wọn, ẹnikẹ́ni tí ìrànlọ́...</td>\n",
              "    </tr>\n",
              "  </tbody>\n",
              "</table>\n",
              "</div>\n",
              "      <button class=\"colab-df-convert\" onclick=\"convertToInteractive('df-875fbb5a-5ecc-4c61-a982-27ae84a11354')\"\n",
              "              title=\"Convert this dataframe to an interactive table.\"\n",
              "              style=\"display:none;\">\n",
              "        \n",
              "  <svg xmlns=\"http://www.w3.org/2000/svg\" height=\"24px\"viewBox=\"0 0 24 24\"\n",
              "       width=\"24px\">\n",
              "    <path d=\"M0 0h24v24H0V0z\" fill=\"none\"/>\n",
              "    <path d=\"M18.56 5.44l.94 2.06.94-2.06 2.06-.94-2.06-.94-.94-2.06-.94 2.06-2.06.94zm-11 1L8.5 8.5l.94-2.06 2.06-.94-2.06-.94L8.5 2.5l-.94 2.06-2.06.94zm10 10l.94 2.06.94-2.06 2.06-.94-2.06-.94-.94-2.06-.94 2.06-2.06.94z\"/><path d=\"M17.41 7.96l-1.37-1.37c-.4-.4-.92-.59-1.43-.59-.52 0-1.04.2-1.43.59L10.3 9.45l-7.72 7.72c-.78.78-.78 2.05 0 2.83L4 21.41c.39.39.9.59 1.41.59.51 0 1.02-.2 1.41-.59l7.78-7.78 2.81-2.81c.8-.78.8-2.07 0-2.86zM5.41 20L4 18.59l7.72-7.72 1.47 1.35L5.41 20z\"/>\n",
              "  </svg>\n",
              "      </button>\n",
              "      \n",
              "  <style>\n",
              "    .colab-df-container {\n",
              "      display:flex;\n",
              "      flex-wrap:wrap;\n",
              "      gap: 12px;\n",
              "    }\n",
              "\n",
              "    .colab-df-convert {\n",
              "      background-color: #E8F0FE;\n",
              "      border: none;\n",
              "      border-radius: 50%;\n",
              "      cursor: pointer;\n",
              "      display: none;\n",
              "      fill: #1967D2;\n",
              "      height: 32px;\n",
              "      padding: 0 0 0 0;\n",
              "      width: 32px;\n",
              "    }\n",
              "\n",
              "    .colab-df-convert:hover {\n",
              "      background-color: #E2EBFA;\n",
              "      box-shadow: 0px 1px 2px rgba(60, 64, 67, 0.3), 0px 1px 3px 1px rgba(60, 64, 67, 0.15);\n",
              "      fill: #174EA6;\n",
              "    }\n",
              "\n",
              "    [theme=dark] .colab-df-convert {\n",
              "      background-color: #3B4455;\n",
              "      fill: #D2E3FC;\n",
              "    }\n",
              "\n",
              "    [theme=dark] .colab-df-convert:hover {\n",
              "      background-color: #434B5C;\n",
              "      box-shadow: 0px 1px 3px 1px rgba(0, 0, 0, 0.15);\n",
              "      filter: drop-shadow(0px 1px 2px rgba(0, 0, 0, 0.3));\n",
              "      fill: #FFFFFF;\n",
              "    }\n",
              "  </style>\n",
              "\n",
              "      <script>\n",
              "        const buttonEl =\n",
              "          document.querySelector('#df-875fbb5a-5ecc-4c61-a982-27ae84a11354 button.colab-df-convert');\n",
              "        buttonEl.style.display =\n",
              "          google.colab.kernel.accessAllowed ? 'block' : 'none';\n",
              "\n",
              "        async function convertToInteractive(key) {\n",
              "          const element = document.querySelector('#df-875fbb5a-5ecc-4c61-a982-27ae84a11354');\n",
              "          const dataTable =\n",
              "            await google.colab.kernel.invokeFunction('convertToInteractive',\n",
              "                                                     [key], {});\n",
              "          if (!dataTable) return;\n",
              "\n",
              "          const docLinkHtml = 'Like what you see? Visit the ' +\n",
              "            '<a target=\"_blank\" href=https://colab.research.google.com/notebooks/data_table.ipynb>data table notebook</a>'\n",
              "            + ' to learn more about interactive tables.';\n",
              "          element.innerHTML = '';\n",
              "          dataTable['output_type'] = 'display_data';\n",
              "          await google.colab.output.renderOutput(dataTable, element);\n",
              "          const docLink = document.createElement('div');\n",
              "          docLink.innerHTML = docLinkHtml;\n",
              "          element.appendChild(docLink);\n",
              "        }\n",
              "      </script>\n",
              "    </div>\n",
              "  </div>\n",
              "  "
            ]
          },
          "metadata": {},
          "execution_count": 267
        }
      ]
    },
    {
      "cell_type": "code",
      "source": [
        "def remove_punctuations(text):\n",
        "    for punctuation in string.punctuation:\n",
        "        text = text.replace(punctuation, '')\n",
        "        text = text.replace('rt', '')\n",
        "        text = text.replace('user', '')\n",
        "    return text"
      ],
      "metadata": {
        "id": "SMPDOrGjoaAX"
      },
      "execution_count": null,
      "outputs": []
    },
    {
      "cell_type": "code",
      "source": [
        "#Clean text\n",
        "def clean_data(text):\n",
        "    text = text.replace('\\r', '').replace('\\n', ' ').replace('\\n', ' ').lower() #remove \\n and \\r and lowercase\n",
        "    text = re.sub(r'[~^0-9]', '', text)\n",
        "    text = remove_punctuations(text)\n",
        "    # text = remove_emoji(text)\n",
        "    text = demoji.replace(text,'')\n",
        "    text = re.sub(r\"(?:\\@|https?\\://)\\S+\", \"\", text) #remove links and mentions\n",
        "# remove multiple spaces\n",
        "    return re.sub(\"\\s\\s+\" , \" \", text)"
      ],
      "metadata": {
        "id": "LP9UFY__5ndf"
      },
      "execution_count": null,
      "outputs": []
    },
    {
      "cell_type": "code",
      "source": [
        "df['tweet'] = df.tweet.apply(lambda x: clean_data(x))"
      ],
      "metadata": {
        "id": "3PZRYnoV58ef"
      },
      "execution_count": null,
      "outputs": []
    },
    {
      "cell_type": "code",
      "source": [
        "df['tweet'].head(50)"
      ],
      "metadata": {
        "colab": {
          "base_uri": "https://localhost:8080/"
        },
        "id": "_D5YOH_aiAk_",
        "outputId": "eb608a99-c8e6-433c-b6ff-764745cc905f"
      },
      "execution_count": null,
      "outputs": [
        {
          "output_type": "execute_result",
          "data": {
            "text/plain": [
              "0     olódùmarè fúnmi láyọ̀ lọ́jọ́ òní sọ tèmi dire ...\n",
              "1      oni je ojo eti rere nitori nipa iku olugba wa...\n",
              "2                       ♫ káwa máà mòṣì ká tó lọ láyé ♪\n",
              "3     mélòó la fẹ́ kà léyín adípèlé mélòó la fẹ́ kà ...\n",
              "4     gbogbo ọmọ nigeria a kú òní o a kú ọjọ́ òmìnir...\n",
              "5      ti bo lewon o wan ti tu ogbeni adeyinka sile ...\n",
              "6                                          emi ase pupo\n",
              "7        hmm daadaa la ji o oro ologbon lati enu omoran\n",
              "8     • mo rọ̀ yín gẹ́gẹ́ bí aláṣẹ kí ẹ ṣe àgbékalẹ̀...\n",
              "9      ẹ kú ìrànlọ́wọ́ wa o màá jẹ́ kí ẹ gbọ́ tí n b...\n",
              "10     baba oshe oshe awa dupe lowo re lwo lolorun w...\n",
              "11     happy bihday ọmọ mummy àṣèyí ṣàmọ́dún láṣẹ èd...\n",
              "12             koko lara ota le toò ótúnkù ni ìbọn ń ró\n",
              "13    bí alẹ́ bá lẹ́ à á fi ọmọ ayò fáyò ó di ojúmọ́...\n",
              "14     ó ku ọjọ́ mẹ́rin ṣé ẹ ti ń múra tweetyoruba ọ...\n",
              "15     ah a dúpé lówó elédùwà sà e ñlé sà e kú ojó méta\n",
              "16                  fàájì ọjọ́àbámẹ́ta yìí ó le kú ni o\n",
              "17    ♫ nàìjíríà yìí ti gbogbo wa ni kò máà gbọ́dọ̀ ...\n",
              "18    olohun maa fi ikan gbakan lowomi yoruba httpst...\n",
              "19                                rere ló pé ìkà ò pé o\n",
              "20              tweetinyoruba ekale ooo se daadaa le wa\n",
              "21                          oluwa ose to daa mi lobirin\n",
              "22              ẹ kú ojúmọ́ o ẹ kú ọjọ́ ajẹ́ yìí ekaaro\n",
              "23     ẹ kú ìsinmi o àlàáfíà ni gbogbo ẹ̀ wà o ẹ̀yin...\n",
              "24     òjíjí bá jí wọn ẹnikẹ́ni tí ìrànlọ́wọ́ọ̀ mi b...\n",
              "25                                        ọpẹ́ fún baba\n",
              "26    bóo wá ni a ṣe ń dá irun ará inú aàfin mọ̀ a ó...\n",
              "27     oníbàtá rọra máa gbádùn ojàre pẹ̀lẹ́pẹ̀lẹ́ là...\n",
              "28                àjọṣe wa ò ní bàjẹ́ o wasgreatbcosofu\n",
              "29    ẹ̀ka àjọ ìṣọ̀kan àgbáyé nì ní fún ìlọsíwájú àt...\n",
              "30     a ò mọlẹ̀ tó lè mọ́ lọ́la àfàìlà ọlọ́jọ́ bọ́j...\n",
              "31     orí ire níí dádé owó orùn ire níi sèdìgbà ìlè...\n",
              "32    ẹ̀bùn edùmarè ni ọmọ⠀ ẹ̀rí ìfẹ́ rẹ̀ sí wa ni w...\n",
              "33     òjíjí bá jí wọn ẹnikẹ́ni tí ìrànlọ́wọ́ọ̀ mi b...\n",
              "34                             olúwa ló kúkú ń ṣọ́ wa o\n",
              "35                      ẹ wolẹ̀ ẹ rọra èkó ò ní bàjẹ́ o\n",
              "36    mààjèsí a child young person mààjèsí ni mí mo ...\n",
              "37                               ọjọ́ titun ohun tuntun\n",
              "38    kérésìmesì ọdún olówó ọdún ọlọ́mọ a kú ìpalẹ̀m...\n",
              "39    oroamoye enikan kii je awa deopo enia nii je j...\n",
              "40     alakowe waa adupe fun eledua fun ebun ile yor...\n",
              "41     ko si sorooplolopo jije mimu wa ni repete lon...\n",
              "42                   aka ni yooba a ni o tiju ju aka lo\n",
              "43     sì tàn dé brasil kuba amẹrika àti uk nípasẹ̀ ...\n",
              "44     ẹ nlẹ́ o bẹ́ẹ̀ni a jí sáyé jí sáàyè wa àṣẹ ọl...\n",
              "45     kadupe lowo ejika ti koje ewu o yekadupe lowo...\n",
              "46     alanu ni o ku ti ohun reti ni orilede jaki ol...\n",
              "47     amin o bi a ba se n fa ni yoo ma tora opolopo...\n",
              "48          ẹ yáa wí bẹ́ẹ̀ àpèmọ́ra eni làá pe tèmídire\n",
              "49               ẹdìẹ tí ò kú ṣì máa jàgbàdo owe yoruba\n",
              "Name: tweet, dtype: object"
            ]
          },
          "metadata": {},
          "execution_count": 271
        }
      ]
    },
    {
      "cell_type": "code",
      "source": [
        "#df.to_csv('yo_train_cleaned.tsv')\n",
        "df.to_csv('yo_dev_cleaned.tsv')"
      ],
      "metadata": {
        "id": "rNAtf6U5iLZa"
      },
      "execution_count": null,
      "outputs": []
    },
    {
      "cell_type": "code",
      "source": [],
      "metadata": {
        "id": "rgQ2u9M2xSt7"
      },
      "execution_count": null,
      "outputs": []
    }
  ]
}