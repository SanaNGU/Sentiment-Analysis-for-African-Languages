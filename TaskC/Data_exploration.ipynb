{
 "cells": [
  {
   "cell_type": "markdown",
   "metadata": {},
   "source": [
    " "
   ]
  },
  {
   "cell_type": "code",
   "execution_count": null,
   "metadata": {},
   "outputs": [],
   "source": [
    " "
   ]
  },
  {
   "cell_type": "code",
   "execution_count": 3,
   "metadata": {},
   "outputs": [
    {
     "name": "stdout",
     "output_type": "stream",
     "text": [
      "Data statistcs for are \n",
      "positive    154\n",
      "neutral     125\n",
      "negative    117\n",
      "Name: label, dtype: int64\n"
     ]
    },
    {
     "name": "stderr",
     "output_type": "stream",
     "text": [
      "/home/sanala/anaconda3/lib/python3.8/site-packages/seaborn/_decorators.py:36: FutureWarning: Pass the following variable as a keyword arg: x. From version 0.12, the only valid positional argument will be `data`, and passing other arguments without an explicit keyword will result in an error or misinterpretation.\n",
      "  warnings.warn(\n"
     ]
    },
    {
     "data": {
      "image/png": "[encoded data removed]",
      "text/plain": [
       "<Figure size 432x288 with 1 Axes>"
      ]
     },
     "metadata": {
      "needs_background": "light"
     },
     "output_type": "display_data"
    }
   ],
   "source": [
    "import pandas as pd\n",
    "import os\n",
    "import seaborn as sns\n",
    "from matplotlib import pyplot as plt\n",
    "DataPath= '/home/sanala/Juputer try/afrisenti/TaskC/'   #change it to your path\n",
    "#data\n",
    "or_data = pd.read_csv(DataPath+'or_dev_gold_label.tsv', sep='\\t')\n",
    "print(f\"Data statistcs for are \\n{or_data['label'].value_counts()}\")\n",
    "sns.countplot(or_data.label)\n",
    "plt.xlabel(f\"label for multilingual_train\")\n",
    "plt.show()\n",
    " "
   ]
  },
  {
   "cell_type": "code",
   "execution_count": null,
   "metadata": {},
   "outputs": [],
   "source": []
  },
  {
   "cell_type": "code",
   "execution_count": 5,
   "metadata": {},
   "outputs": [
    {
     "name": "stdout",
     "output_type": "stream",
     "text": [
      "Data statistcs for are \n",
      "negative    215\n",
      "neutral     122\n",
      "positive     61\n",
      "Name: label, dtype: int64\n"
     ]
    },
    {
     "name": "stderr",
     "output_type": "stream",
     "text": [
      "/home/sanala/anaconda3/lib/python3.8/site-packages/seaborn/_decorators.py:36: FutureWarning: Pass the following variable as a keyword arg: x. From version 0.12, the only valid positional argument will be `data`, and passing other arguments without an explicit keyword will result in an error or misinterpretation.\n",
      "  warnings.warn(\n"
     ]
    },
    {
     "data": {
      "image/png": "[encoded data removed]",
      "text/plain": [
       "<Figure size 432x288 with 1 Axes>"
      ]
     },
     "metadata": {
      "needs_background": "light"
     },
     "output_type": "display_data"
    }
   ],
   "source": [
    "import pandas as pd\n",
    "import os\n",
    "import seaborn as sns\n",
    "from matplotlib import pyplot as plt\n",
    "DataPath= '/home/sanala/Juputer try/afrisenti/TaskC/'   #change it to your path\n",
    "#data\n",
    "tg_data = pd.read_csv(DataPath+'tg_dev_gold_label.tsv', sep='\\t')\n",
    "print(f\"Data statistcs for are \\n{tg_data['label'].value_counts()}\")\n",
    "sns.countplot(tg_data.label)\n",
    "plt.xlabel(f\"label for multilingual_train\")\n",
    "plt.show()\n",
    " "
   ]
  },
  {
   "cell_type": "code",
   "execution_count": 6,
   "metadata": {},
   "outputs": [
    {
     "data": {
      "text/html": [
       "<div>\n",
       "<style scoped>\n",
       "    .dataframe tbody tr th:only-of-type {\n",
       "        vertical-align: middle;\n",
       "    }\n",
       "\n",
       "    .dataframe tbody tr th {\n",
       "        vertical-align: top;\n",
       "    }\n",
       "\n",
       "    .dataframe thead th {\n",
       "        text-align: right;\n",
       "    }\n",
       "</style>\n",
       "<table border=\"1\" class=\"dataframe\">\n",
       "  <thead>\n",
       "    <tr style=\"text-align: right;\">\n",
       "      <th></th>\n",
       "      <th>ID</th>\n",
       "      <th>tweet</th>\n",
       "      <th>label</th>\n",
       "    </tr>\n",
       "  </thead>\n",
       "  <tbody>\n",
       "    <tr>\n",
       "      <th>0</th>\n",
       "      <td>tig_dev_00001</td>\n",
       "      <td>@user @user @user @user እንታይ ካብ ጎንደር ዝወረስዎን ድኣ...</td>\n",
       "      <td>negative</td>\n",
       "    </tr>\n",
       "    <tr>\n",
       "      <th>1</th>\n",
       "      <td>tig_dev_00002</td>\n",
       "      <td>@user @user ክሳራ ወለድኹም ኢኹም ካባኹም የድሕነና ፡ ንማንም ኣይ...</td>\n",
       "      <td>negative</td>\n",
       "    </tr>\n",
       "    <tr>\n",
       "      <th>2</th>\n",
       "      <td>tig_dev_00003</td>\n",
       "      <td>@user ውጽኢት ስራሕ 31 ዓመታት ሽፍታ ጉጅለ ኢሳያስ ገለ ካብኡ ነዚ ...</td>\n",
       "      <td>negative</td>\n",
       "    </tr>\n",
       "    <tr>\n",
       "      <th>3</th>\n",
       "      <td>tig_dev_00004</td>\n",
       "      <td>@user ክመኽረኩም እንተኾይነ:ንሕውሓት ነዞም ውሑድ ቁጽሮም እባ ምጥፋእ...</td>\n",
       "      <td>negative</td>\n",
       "    </tr>\n",
       "    <tr>\n",
       "      <th>4</th>\n",
       "      <td>tig_dev_00005</td>\n",
       "      <td>@user ዘሕፍር ኣብነት መስተ</td>\n",
       "      <td>negative</td>\n",
       "    </tr>\n",
       "    <tr>\n",
       "      <th>...</th>\n",
       "      <td>...</td>\n",
       "      <td>...</td>\n",
       "      <td>...</td>\n",
       "    </tr>\n",
       "    <tr>\n",
       "      <th>393</th>\n",
       "      <td>tig_dev_00396</td>\n",
       "      <td>@user @user @user @user @user @user ንውድቀር ኩርዓት...</td>\n",
       "      <td>neutral</td>\n",
       "    </tr>\n",
       "    <tr>\n",
       "      <th>394</th>\n",
       "      <td>tig_dev_00397</td>\n",
       "      <td>@user ናይ ብሓቂ ለባም ሓፍተይ ??</td>\n",
       "      <td>positive</td>\n",
       "    </tr>\n",
       "    <tr>\n",
       "      <th>395</th>\n",
       "      <td>tig_dev_00398</td>\n",
       "      <td>@user ገቼ ኣሜን ሓብሩ ኢንካዓ ኣብፅሐና ንሰራውትናን ንህዝብናን ናይ ...</td>\n",
       "      <td>positive</td>\n",
       "    </tr>\n",
       "    <tr>\n",
       "      <th>396</th>\n",
       "      <td>tig_dev_00399</td>\n",
       "      <td>ኣብ ባጽዕ ጥዋለት-ዕዳጋ ዝቅመጥ ሰብ ንወዲ ማጆር ዘይፈልጥ ሰብ የለን፡ ...</td>\n",
       "      <td>neutral</td>\n",
       "    </tr>\n",
       "    <tr>\n",
       "      <th>397</th>\n",
       "      <td>tig_dev_00400</td>\n",
       "      <td>ፅንዓት ንዘይተርፍ ዓዎት ብሳላኩም ብደቃ ትዕንብብ እያ ትግራይ ትደምቅ እ...</td>\n",
       "      <td>neutral</td>\n",
       "    </tr>\n",
       "  </tbody>\n",
       "</table>\n",
       "<p>398 rows × 3 columns</p>\n",
       "</div>"
      ],
      "text/plain": [
       "                ID                                              tweet  \\\n",
       "0    tig_dev_00001  @user @user @user @user እንታይ ካብ ጎንደር ዝወረስዎን ድኣ...   \n",
       "1    tig_dev_00002  @user @user ክሳራ ወለድኹም ኢኹም ካባኹም የድሕነና ፡ ንማንም ኣይ...   \n",
       "2    tig_dev_00003  @user ውጽኢት ስራሕ 31 ዓመታት ሽፍታ ጉጅለ ኢሳያስ ገለ ካብኡ ነዚ ...   \n",
       "3    tig_dev_00004  @user ክመኽረኩም እንተኾይነ:ንሕውሓት ነዞም ውሑድ ቁጽሮም እባ ምጥፋእ...   \n",
       "4    tig_dev_00005                                @user ዘሕፍር ኣብነት መስተ   \n",
       "..             ...                                                ...   \n",
       "393  tig_dev_00396  @user @user @user @user @user @user ንውድቀር ኩርዓት...   \n",
       "394  tig_dev_00397                           @user ናይ ብሓቂ ለባም ሓፍተይ ??   \n",
       "395  tig_dev_00398  @user ገቼ ኣሜን ሓብሩ ኢንካዓ ኣብፅሐና ንሰራውትናን ንህዝብናን ናይ ...   \n",
       "396  tig_dev_00399  ኣብ ባጽዕ ጥዋለት-ዕዳጋ ዝቅመጥ ሰብ ንወዲ ማጆር ዘይፈልጥ ሰብ የለን፡ ...   \n",
       "397  tig_dev_00400  ፅንዓት ንዘይተርፍ ዓዎት ብሳላኩም ብደቃ ትዕንብብ እያ ትግራይ ትደምቅ እ...   \n",
       "\n",
       "        label  \n",
       "0    negative  \n",
       "1    negative  \n",
       "2    negative  \n",
       "3    negative  \n",
       "4    negative  \n",
       "..        ...  \n",
       "393   neutral  \n",
       "394  positive  \n",
       "395  positive  \n",
       "396   neutral  \n",
       "397   neutral  \n",
       "\n",
       "[398 rows x 3 columns]"
      ]
     },
     "execution_count": 6,
     "metadata": {},
     "output_type": "execute_result"
    }
   ],
   "source": [
    "tg_data"
   ]
  },
  {
   "cell_type": "markdown",
   "metadata": {},
   "source": [
    " "
   ]
  },
  {
   "cell_type": "code",
   "execution_count": 7,
   "metadata": {},
   "outputs": [],
   "source": [
    "  ##dublication cheack\n",
    "\n",
    "multi_DataPath= '/home/sanala/Juputer try/afrisenti/TaskB/'   #change it to your path\n",
    "multi_data = pd.read_csv(os.path.join(multi_DataPath,'train_dev.tsv'), sep='\\t')\n",
    "\n",
    "\n",
    "all = [tg_data,or_data,multi_data]\n",
    "all_data = pd.concat(all)\n",
    "#print(len (all_data[all_data.iloc[:,1].duplicated(keep=False).values]))\n",
    "all_data\n",
    "all_data=all_data.reset_index(drop=True)\n",
    "#print(len (all_data[all_data.iloc[:,1].duplicated(keep=False).values]))\n",
    "\n",
    "all_data.to_csv('all_data.tsv', sep='\\t', index=False)\n",
    "\n"
   ]
  },
  {
   "cell_type": "code",
   "execution_count": 8,
   "metadata": {},
   "outputs": [
    {
     "data": {
      "text/html": [
       "<div>\n",
       "<style scoped>\n",
       "    .dataframe tbody tr th:only-of-type {\n",
       "        vertical-align: middle;\n",
       "    }\n",
       "\n",
       "    .dataframe tbody tr th {\n",
       "        vertical-align: top;\n",
       "    }\n",
       "\n",
       "    .dataframe thead th {\n",
       "        text-align: right;\n",
       "    }\n",
       "</style>\n",
       "<table border=\"1\" class=\"dataframe\">\n",
       "  <thead>\n",
       "    <tr style=\"text-align: right;\">\n",
       "      <th></th>\n",
       "      <th>ID</th>\n",
       "      <th>tweet</th>\n",
       "      <th>label</th>\n",
       "    </tr>\n",
       "  </thead>\n",
       "  <tbody>\n",
       "    <tr>\n",
       "      <th>0</th>\n",
       "      <td>tig_dev_00001</td>\n",
       "      <td>@user @user @user @user እንታይ ካብ ጎንደር ዝወረስዎን ድኣ...</td>\n",
       "      <td>negative</td>\n",
       "    </tr>\n",
       "    <tr>\n",
       "      <th>1</th>\n",
       "      <td>tig_dev_00002</td>\n",
       "      <td>@user @user ክሳራ ወለድኹም ኢኹም ካባኹም የድሕነና ፡ ንማንም ኣይ...</td>\n",
       "      <td>negative</td>\n",
       "    </tr>\n",
       "    <tr>\n",
       "      <th>2</th>\n",
       "      <td>tig_dev_00003</td>\n",
       "      <td>@user ውጽኢት ስራሕ 31 ዓመታት ሽፍታ ጉጅለ ኢሳያስ ገለ ካብኡ ነዚ ...</td>\n",
       "      <td>negative</td>\n",
       "    </tr>\n",
       "    <tr>\n",
       "      <th>3</th>\n",
       "      <td>tig_dev_00004</td>\n",
       "      <td>@user ክመኽረኩም እንተኾይነ:ንሕውሓት ነዞም ውሑድ ቁጽሮም እባ ምጥፋእ...</td>\n",
       "      <td>negative</td>\n",
       "    </tr>\n",
       "    <tr>\n",
       "      <th>4</th>\n",
       "      <td>tig_dev_00005</td>\n",
       "      <td>@user ዘሕፍር ኣብነት መስተ</td>\n",
       "      <td>negative</td>\n",
       "    </tr>\n",
       "    <tr>\n",
       "      <th>...</th>\n",
       "      <td>...</td>\n",
       "      <td>...</td>\n",
       "      <td>...</td>\n",
       "    </tr>\n",
       "    <tr>\n",
       "      <th>78127</th>\n",
       "      <td>mul_dev_13649</td>\n",
       "      <td>ለህልም እንዴት ጥሩ ነው?  አሁንም ስለእናንተ አልመኝ.  የተረሳዎትን መ...</td>\n",
       "      <td>positive</td>\n",
       "    </tr>\n",
       "    <tr>\n",
       "      <th>78128</th>\n",
       "      <td>mul_dev_13650</td>\n",
       "      <td>የኢትዮጵያ የመከላከያና ደህንነት በአረብ አገራት እንድወድቅ አብይ አህመድ...</td>\n",
       "      <td>negative</td>\n",
       "    </tr>\n",
       "    <tr>\n",
       "      <th>78129</th>\n",
       "      <td>mul_dev_13651</td>\n",
       "      <td>@user Haba mustapha, da samu da rashi duk na A...</td>\n",
       "      <td>neutral</td>\n",
       "    </tr>\n",
       "    <tr>\n",
       "      <th>78130</th>\n",
       "      <td>mul_dev_13652</td>\n",
       "      <td>im not even looking for any female right now i...</td>\n",
       "      <td>negative</td>\n",
       "    </tr>\n",
       "    <tr>\n",
       "      <th>78131</th>\n",
       "      <td>mul_dev_13653</td>\n",
       "      <td>Jẹ kí n jẹ ní í mú ayò dùn. #EsinOro #Yoruba</td>\n",
       "      <td>positive</td>\n",
       "    </tr>\n",
       "  </tbody>\n",
       "</table>\n",
       "<p>78132 rows × 3 columns</p>\n",
       "</div>"
      ],
      "text/plain": [
       "                  ID                                              tweet  \\\n",
       "0      tig_dev_00001  @user @user @user @user እንታይ ካብ ጎንደር ዝወረስዎን ድኣ...   \n",
       "1      tig_dev_00002  @user @user ክሳራ ወለድኹም ኢኹም ካባኹም የድሕነና ፡ ንማንም ኣይ...   \n",
       "2      tig_dev_00003  @user ውጽኢት ስራሕ 31 ዓመታት ሽፍታ ጉጅለ ኢሳያስ ገለ ካብኡ ነዚ ...   \n",
       "3      tig_dev_00004  @user ክመኽረኩም እንተኾይነ:ንሕውሓት ነዞም ውሑድ ቁጽሮም እባ ምጥፋእ...   \n",
       "4      tig_dev_00005                                @user ዘሕፍር ኣብነት መስተ   \n",
       "...              ...                                                ...   \n",
       "78127  mul_dev_13649  ለህልም እንዴት ጥሩ ነው?  አሁንም ስለእናንተ አልመኝ.  የተረሳዎትን መ...   \n",
       "78128  mul_dev_13650  የኢትዮጵያ የመከላከያና ደህንነት በአረብ አገራት እንድወድቅ አብይ አህመድ...   \n",
       "78129  mul_dev_13651  @user Haba mustapha, da samu da rashi duk na A...   \n",
       "78130  mul_dev_13652  im not even looking for any female right now i...   \n",
       "78131  mul_dev_13653       Jẹ kí n jẹ ní í mú ayò dùn. #EsinOro #Yoruba   \n",
       "\n",
       "          label  \n",
       "0      negative  \n",
       "1      negative  \n",
       "2      negative  \n",
       "3      negative  \n",
       "4      negative  \n",
       "...         ...  \n",
       "78127  positive  \n",
       "78128  negative  \n",
       "78129   neutral  \n",
       "78130  negative  \n",
       "78131  positive  \n",
       "\n",
       "[78132 rows x 3 columns]"
      ]
     },
     "execution_count": 8,
     "metadata": {},
     "output_type": "execute_result"
    }
   ],
   "source": [
    "all_data"
   ]
  },
  {
   "cell_type": "code",
   "execution_count": null,
   "metadata": {},
   "outputs": [],
   "source": [
    " "
   ]
  },
  {
   "cell_type": "code",
   "execution_count": null,
   "metadata": {},
   "outputs": [],
   "source": [
    " "
   ]
  },
  {
   "cell_type": "code",
   "execution_count": null,
   "metadata": {},
   "outputs": [],
   "source": [
    " "
   ]
  },
  {
   "cell_type": "code",
   "execution_count": null,
   "metadata": {},
   "outputs": [],
   "source": [
    " \n"
   ]
  },
  {
   "cell_type": "code",
   "execution_count": null,
   "metadata": {},
   "outputs": [],
   "source": [
    " "
   ]
  },
  {
   "cell_type": "code",
   "execution_count": null,
   "metadata": {},
   "outputs": [],
   "source": [
    " "
   ]
  },
  {
   "cell_type": "code",
   "execution_count": null,
   "metadata": {},
   "outputs": [],
   "source": [
    " "
   ]
  },
  {
   "cell_type": "code",
   "execution_count": 64,
   "metadata": {},
   "outputs": [],
   "source": [
    " "
   ]
  },
  {
   "cell_type": "code",
   "execution_count": null,
   "metadata": {},
   "outputs": [],
   "source": []
  }
 ],
 "metadata": {
  "kernelspec": {
   "display_name": "env-hsd",
   "language": "python",
   "name": "env-hsd"
  },
  "language_info": {
   "codemirror_mode": {
    "name": "ipython",
    "version": 3
   },
   "file_extension": ".py",
   "mimetype": "text/x-python",
   "name": "python",
   "nbconvert_exporter": "python",
   "pygments_lexer": "ipython3",
   "version": "3.8.5"
  }
 },
 "nbformat": 4,
 "nbformat_minor": 4
}
