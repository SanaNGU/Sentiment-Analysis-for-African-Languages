{
 "cells": [
  {
   "cell_type": "code",
   "execution_count": 22,
   "metadata": {},
   "outputs": [],
   "source": []
  },
  {
   "cell_type": "code",
   "execution_count": 6,
   "metadata": {},
   "outputs": [],
   "source": []
  },
  {
   "cell_type": "code",
   "execution_count": 3,
   "metadata": {},
   "outputs": [],
   "source": [
    "import sys\n",
    "import numpy as np\n",
    "import pandas as pd\n",
    "from sklearn.metrics import confusion_matrix, f1_score\n",
    "test_data=pd.read_csv('/home/sanala/Juputer try/afrisenti/TaskB/cardiffnlp/twitter-xlm-roberta-base-sentiment-multilingual/submission/pred_multilingual.tsv', sep='\\t')\n",
    "from collections import Counter\n",
    "model_path = {\n",
    "    'm1': '/home/sanala/Juputer try/afrisenti/TaskB/setu4993/LaBSE-multilingual/pred_multilingual-LaBSE.tsv',\n",
    "   'm2': '/home/sanala/Juputer try/afrisenti/TaskB/setu4993/LaBSE-multilingual/pred_multilingual-73.tsv',\n",
    "   'm3': '/home/sanala/Juputer try/afrisenti/TaskB/cardiffnlp/twitter-xlm-roberta-base-sentiment-multilingual/submission/pred_multilingual.tsv',\n",
    "\n",
    "\n",
    "}\n",
    "\n",
    " \n",
    "inverse_category = {\n",
    "    0: 'neutral',\n",
    "    1: 'positive',\n",
    "    2: 'negative',\n",
    "}\n",
    "\n",
    " \n",
    "# read all predictions\n",
    "df = {}\n",
    "for key, value in model_path.items():\n",
    "    df[key] = pd.read_csv(model_path[key], sep='\\t')"
   ]
  },
  {
   "cell_type": "code",
   "execution_count": null,
   "metadata": {},
   "outputs": [],
   "source": [
    " "
   ]
  },
  {
   "cell_type": "code",
   "execution_count": 4,
   "metadata": {},
   "outputs": [
    {
     "data": {
      "text/plain": [
       "['negative']"
      ]
     },
     "execution_count": 4,
     "metadata": {},
     "output_type": "execute_result"
    }
   ],
   "source": [
    "df['m1'].iloc[1].values.tolist()[1:2]"
   ]
  },
  {
   "cell_type": "markdown",
   "metadata": {},
   "source": [
    "# Ensemble logits"
   ]
  },
  {
   "cell_type": "code",
   "execution_count": 5,
   "metadata": {},
   "outputs": [],
   "source": [
    "##\n",
    "answer = [] \n",
    "for i in range(len(df['m1'])):\n",
    "    logits = []\n",
    "\n",
    "\n",
    "        # 0 is index in dataframe\n",
    "    for log_1, log_2, log_3 in zip(df['m1'].iloc[i].values.tolist()[1:2], df['m2'].iloc[i].values.tolist()[1:2], df['m3'].iloc[i].values.tolist()[1:2]):\n",
    "       # print(log_1,log_2,log_3,log_4,log_5)\n",
    "        \n",
    "        #result[\"label\"] = [(label_to_id[l] if l != -1 else -1) for l in examples[\"label\"]]\n",
    "        #return result\n",
    "        logits=[log_1,log_2,log_3]\n",
    "        vote_count = Counter(logits)\n",
    "        top_one = vote_count.most_common(1)[0][0]\n",
    "        answer.append(top_one)\n",
    "        #print(inverse_category[top_one])"
   ]
  },
  {
   "cell_type": "code",
   "execution_count": 6,
   "metadata": {},
   "outputs": [],
   "source": [
    "test_data['label']=answer\n"
   ]
  },
  {
   "cell_type": "code",
   "execution_count": 8,
   "metadata": {},
   "outputs": [],
   "source": [
    " \n",
    "test_data\n",
    "#test_data.drop('text', axis=1, inplace=True) \n",
    "test_data.to_csv('/home/sanala/Juputer try/afrisenti/TaskB/pred_multilingual.tsv',sep='\\t', index=False)\n",
    " # answer.to_csv('answer.csv', index = False)"
   ]
  },
  {
   "cell_type": "markdown",
   "metadata": {},
   "source": [
    " "
   ]
  },
  {
   "cell_type": "code",
   "execution_count": 97,
   "metadata": {},
   "outputs": [],
   "source": [
    " \n"
   ]
  },
  {
   "cell_type": "code",
   "execution_count": 98,
   "metadata": {},
   "outputs": [],
   "source": [
    " \n"
   ]
  },
  {
   "cell_type": "code",
   "execution_count": 79,
   "metadata": {},
   "outputs": [],
   "source": []
  },
  {
   "cell_type": "code",
   "execution_count": null,
   "metadata": {},
   "outputs": [],
   "source": []
  }
 ],
 "metadata": {
  "kernelspec": {
   "display_name": "env-hsd",
   "language": "python",
   "name": "env-hsd"
  },
  "language_info": {
   "codemirror_mode": {
    "name": "ipython",
    "version": 3
   },
   "file_extension": ".py",
   "mimetype": "text/x-python",
   "name": "python",
   "nbconvert_exporter": "python",
   "pygments_lexer": "ipython3",
   "version": "3.8.5"
  }
 },
 "nbformat": 4,
 "nbformat_minor": 4
}
