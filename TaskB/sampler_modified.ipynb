{
 "cells": [
  {
   "cell_type": "code",
   "execution_count": 80,
   "metadata": {},
   "outputs": [],
   "source": [
    "# create subset uniformly\n",
    "langtags = {'am':'<am>', 'dz':'<dz>', 'ha':'<ha>', 'ig':'<ig>', 'kr':'<kr>', 'ma':'<ma>', 'pcm':'<pcm>', 'pt':'<pt>', 'sw':'<sw>', 'ts':'<ts>', 'twi':'<twi>', 'yo':'<yo>'}\n",
    "tags = [item for item in langtags.items()]"
   ]
  },
  {
   "cell_type": "code",
   "execution_count": 81,
   "metadata": {},
   "outputs": [],
   "source": [
    "import pandas as pd\n",
    "import os\n",
    "\n",
    "class languages:\n",
    "    def __init__(self, code, datapath):\n",
    "        path = os.path.join(datapath, code+'_train.tsv')\n",
    "        self.df = pd.read_csv(path, sep='\\t', index_col=0)\n",
    "        self.df = self.df.dropna()\n",
    "        self.df['tag'] = code\n",
    "        # self.df['label'].value_counts()\n",
    "        self.code = code\n",
    "    \n",
    "    def getmax(self):\n",
    "        return self.df['tag'].value_counts().max()\n",
    "    \n",
    "    def getmin(self):\n",
    "        return self.df['tag'].value_counts().min()\n",
    "    \n",
    "    def getsum(self):\n",
    "        return self.df['tag'].value_counts().sum()\n",
    "    \n",
    "    def sampleuniallclass(self, k):\n",
    "        # uniformly sample across class and language\n",
    "        return k.sample(self.nSamples, replace=True)\n",
    "    \n",
    "    def sampleuniall(self, nSamples=1):\n",
    "        self.nSamples = nSamples\n",
    "        sam = self.df.groupby('tag').apply(self.sampleuniallclass)\n",
    "        return sam\n",
    "    \n",
    "    def mergesampleall(self):\n",
    "        return self.df\n",
    "    "
   ]
  },
  {
   "cell_type": "code",
   "execution_count": 82,
   "metadata": {},
   "outputs": [
    {
     "name": "stdout",
     "output_type": "stream",
     "text": [
      "/home/sanala/Juputer try/afrisenti/TaskB\n"
     ]
    }
   ],
   "source": [
    "!pwd"
   ]
  },
  {
   "cell_type": "code",
   "execution_count": 83,
   "metadata": {},
   "outputs": [],
   "source": [
    "alllangsObjs = [languages(item,'/home/sanala/Juputer try/afrisenti/TaskA/train') for item in langtags]"
   ]
  },
  {
   "cell_type": "code",
   "execution_count": null,
   "metadata": {},
   "outputs": [],
   "source": []
  },
  {
   "cell_type": "code",
   "execution_count": 87,
   "metadata": {},
   "outputs": [],
   "source": [
    "uniformall = True\n",
    "# mergeall = True\n",
    "#uniformclass = False\n",
    "if uniformall:\n",
    "    # sample the data based on the class with the highest number of instances across languages\n",
    "    minlabelsize = max([item.getmax() for item in alllangsObjs])\n",
    "    classsample = [item.sampleuniall(nSamples = minlabelsize)  for item in alllangsObjs]\n",
    "    sampleddata = pd.concat(classsample)\n",
    "elif mergeall:\n",
    "    # concatenate all the data without any extra sampling\n",
    "    classsample = [item.mergesampleall() for item in alllangsObjs]\n",
    "    sampleddata = pd.concat(classsample)"
   ]
  },
  {
   "cell_type": "code",
   "execution_count": 88,
   "metadata": {},
   "outputs": [
    {
     "data": {
      "text/html": [
       "<div>\n",
       "<style scoped>\n",
       "    .dataframe tbody tr th:only-of-type {\n",
       "        vertical-align: middle;\n",
       "    }\n",
       "\n",
       "    .dataframe tbody tr th {\n",
       "        vertical-align: top;\n",
       "    }\n",
       "\n",
       "    .dataframe thead th {\n",
       "        text-align: right;\n",
       "    }\n",
       "</style>\n",
       "<table border=\"1\" class=\"dataframe\">\n",
       "  <thead>\n",
       "    <tr style=\"text-align: right;\">\n",
       "      <th></th>\n",
       "      <th></th>\n",
       "      <th>tweet</th>\n",
       "      <th>label</th>\n",
       "      <th>tag</th>\n",
       "    </tr>\n",
       "    <tr>\n",
       "      <th>tag</th>\n",
       "      <th>ID</th>\n",
       "      <th></th>\n",
       "      <th></th>\n",
       "      <th></th>\n",
       "    </tr>\n",
       "  </thead>\n",
       "  <tbody>\n",
       "    <tr>\n",
       "      <th rowspan=\"5\" valign=\"top\">am</th>\n",
       "      <th>am_train_03143</th>\n",
       "      <td>ጎንደር ዩኒቨርሲቲ በተቋሙ መረጋጋት እንዳይፈጠር እንቅፋት ሁነዋል ባላቸው...</td>\n",
       "      <td>neutral</td>\n",
       "      <td>am</td>\n",
       "    </tr>\n",
       "    <tr>\n",
       "      <th>am_train_05016</th>\n",
       "      <td>ጥሩ ሰው እኮ ነህ ቅዳሜ ቅዳሜ ከሁለት ቴኪላ በኋላ ??</td>\n",
       "      <td>positive</td>\n",
       "      <td>am</td>\n",
       "    </tr>\n",
       "    <tr>\n",
       "      <th>am_train_00165</th>\n",
       "      <td>ውይ ችኮላህ...እስቲ ዝም በል የተወናበደ ፎሎወር ላግበስብስበት lol</td>\n",
       "      <td>negative</td>\n",
       "      <td>am</td>\n",
       "    </tr>\n",
       "    <tr>\n",
       "      <th>am_train_05424</th>\n",
       "      <td>ተጋጣሚያችን አክብረን፣ በሜዳችን፣ ከሜዳችን ውጭ ሳንል ሁልጊዜም፣ ለማሸነ...</td>\n",
       "      <td>positive</td>\n",
       "      <td>am</td>\n",
       "    </tr>\n",
       "    <tr>\n",
       "      <th>am_train_04660</th>\n",
       "      <td>አምላከ ቅዱስ ዑራኤል መልአክ ቀኑን የተበረከና የተቀደሰ ያድርግልን፡፡ በ...</td>\n",
       "      <td>positive</td>\n",
       "      <td>am</td>\n",
       "    </tr>\n",
       "  </tbody>\n",
       "</table>\n",
       "</div>"
      ],
      "text/plain": [
       "                                                                tweet  \\\n",
       "tag ID                                                                  \n",
       "am  am_train_03143  ጎንደር ዩኒቨርሲቲ በተቋሙ መረጋጋት እንዳይፈጠር እንቅፋት ሁነዋል ባላቸው...   \n",
       "    am_train_05016                ጥሩ ሰው እኮ ነህ ቅዳሜ ቅዳሜ ከሁለት ቴኪላ በኋላ ??   \n",
       "    am_train_00165       ውይ ችኮላህ...እስቲ ዝም በል የተወናበደ ፎሎወር ላግበስብስበት lol   \n",
       "    am_train_05424  ተጋጣሚያችን አክብረን፣ በሜዳችን፣ ከሜዳችን ውጭ ሳንል ሁልጊዜም፣ ለማሸነ...   \n",
       "    am_train_04660  አምላከ ቅዱስ ዑራኤል መልአክ ቀኑን የተበረከና የተቀደሰ ያድርግልን፡፡ በ...   \n",
       "\n",
       "                       label tag  \n",
       "tag ID                            \n",
       "am  am_train_03143   neutral  am  \n",
       "    am_train_05016  positive  am  \n",
       "    am_train_00165  negative  am  \n",
       "    am_train_05424  positive  am  \n",
       "    am_train_04660  positive  am  "
      ]
     },
     "execution_count": 88,
     "metadata": {},
     "output_type": "execute_result"
    }
   ],
   "source": [
    "sampleddata.head()"
   ]
  },
  {
   "cell_type": "code",
   "execution_count": 89,
   "metadata": {},
   "outputs": [],
   "source": [
    "# sampleddata = pd.read_csv('sampleuniall_dev.tsv',sep='\\t')\n",
    "# sampleddata.head()"
   ]
  },
  {
   "cell_type": "code",
   "execution_count": 90,
   "metadata": {},
   "outputs": [
    {
     "data": {
      "text/plain": [
       "Index(['tweet', 'label', 'tag'], dtype='object')"
      ]
     },
     "execution_count": 90,
     "metadata": {},
     "output_type": "execute_result"
    }
   ],
   "source": [
    "sampleddata.columns"
   ]
  },
  {
   "cell_type": "code",
   "execution_count": 91,
   "metadata": {},
   "outputs": [
    {
     "data": {
      "text/plain": [
       "tag  ID            \n",
       "am   am_train_03143     neutral\n",
       "     am_train_05016    positive\n",
       "     am_train_00165    negative\n",
       "     am_train_05424    positive\n",
       "     am_train_04660    positive\n",
       "                         ...   \n",
       "yo   yo_train_07920    positive\n",
       "     yo_train_05979    positive\n",
       "     yo_train_00029    negative\n",
       "     yo_train_04152     neutral\n",
       "     yo_train_01960     neutral\n",
       "Name: label, Length: 170064, dtype: object"
      ]
     },
     "execution_count": 91,
     "metadata": {},
     "output_type": "execute_result"
    }
   ],
   "source": [
    "sampleddata['label']\n"
   ]
  },
  {
   "cell_type": "code",
   "execution_count": 92,
   "metadata": {},
   "outputs": [
    {
     "ename": "AttributeError",
     "evalue": "'DataFrame' object has no attribute 'ID'",
     "output_type": "error",
     "traceback": [
      "\u001b[0;31m---------------------------------------------------------------------------\u001b[0m",
      "\u001b[0;31mAttributeError\u001b[0m                            Traceback (most recent call last)",
      "\u001b[0;32m<ipython-input-92-bf557a8abd44>\u001b[0m in \u001b[0;36m<module>\u001b[0;34m\u001b[0m\n\u001b[0;32m----> 1\u001b[0;31m \u001b[0msampleddata\u001b[0m\u001b[0;34m[\u001b[0m\u001b[0;34m'ID'\u001b[0m\u001b[0;34m]\u001b[0m \u001b[0;34m=\u001b[0m \u001b[0msampleddata\u001b[0m\u001b[0;34m.\u001b[0m\u001b[0mID\u001b[0m\u001b[0;34m.\u001b[0m\u001b[0mapply\u001b[0m\u001b[0;34m(\u001b[0m\u001b[0;32mlambda\u001b[0m \u001b[0mx\u001b[0m\u001b[0;34m:\u001b[0m \u001b[0mx\u001b[0m\u001b[0;34m.\u001b[0m\u001b[0mreplace\u001b[0m\u001b[0;34m(\u001b[0m\u001b[0mx\u001b[0m\u001b[0;34m.\u001b[0m\u001b[0msplit\u001b[0m\u001b[0;34m(\u001b[0m\u001b[0;34m'_'\u001b[0m\u001b[0;34m)\u001b[0m\u001b[0;34m[\u001b[0m\u001b[0;36m0\u001b[0m\u001b[0;34m]\u001b[0m\u001b[0;34m,\u001b[0m\u001b[0;34m'mul'\u001b[0m\u001b[0;34m)\u001b[0m\u001b[0;34m)\u001b[0m\u001b[0;34m\u001b[0m\u001b[0;34m\u001b[0m\u001b[0m\n\u001b[0m\u001b[1;32m      2\u001b[0m \u001b[0msampleddata\u001b[0m\u001b[0;34m.\u001b[0m\u001b[0mhead\u001b[0m\u001b[0;34m(\u001b[0m\u001b[0;34m)\u001b[0m\u001b[0;34m\u001b[0m\u001b[0;34m\u001b[0m\u001b[0m\n",
      "\u001b[0;32m~/anaconda3/lib/python3.8/site-packages/pandas/core/generic.py\u001b[0m in \u001b[0;36m__getattr__\u001b[0;34m(self, name)\u001b[0m\n\u001b[1;32m   5458\u001b[0m             \u001b[0;32mif\u001b[0m \u001b[0mself\u001b[0m\u001b[0;34m.\u001b[0m\u001b[0m_info_axis\u001b[0m\u001b[0;34m.\u001b[0m\u001b[0m_can_hold_identifiers_and_holds_name\u001b[0m\u001b[0;34m(\u001b[0m\u001b[0mname\u001b[0m\u001b[0;34m)\u001b[0m\u001b[0;34m:\u001b[0m\u001b[0;34m\u001b[0m\u001b[0;34m\u001b[0m\u001b[0m\n\u001b[1;32m   5459\u001b[0m                 \u001b[0;32mreturn\u001b[0m \u001b[0mself\u001b[0m\u001b[0;34m[\u001b[0m\u001b[0mname\u001b[0m\u001b[0;34m]\u001b[0m\u001b[0;34m\u001b[0m\u001b[0;34m\u001b[0m\u001b[0m\n\u001b[0;32m-> 5460\u001b[0;31m             \u001b[0;32mreturn\u001b[0m \u001b[0mobject\u001b[0m\u001b[0;34m.\u001b[0m\u001b[0m__getattribute__\u001b[0m\u001b[0;34m(\u001b[0m\u001b[0mself\u001b[0m\u001b[0;34m,\u001b[0m \u001b[0mname\u001b[0m\u001b[0;34m)\u001b[0m\u001b[0;34m\u001b[0m\u001b[0;34m\u001b[0m\u001b[0m\n\u001b[0m\u001b[1;32m   5461\u001b[0m \u001b[0;34m\u001b[0m\u001b[0m\n\u001b[1;32m   5462\u001b[0m     \u001b[0;32mdef\u001b[0m \u001b[0m__setattr__\u001b[0m\u001b[0;34m(\u001b[0m\u001b[0mself\u001b[0m\u001b[0;34m,\u001b[0m \u001b[0mname\u001b[0m\u001b[0;34m:\u001b[0m \u001b[0mstr\u001b[0m\u001b[0;34m,\u001b[0m \u001b[0mvalue\u001b[0m\u001b[0;34m)\u001b[0m \u001b[0;34m->\u001b[0m \u001b[0;32mNone\u001b[0m\u001b[0;34m:\u001b[0m\u001b[0;34m\u001b[0m\u001b[0;34m\u001b[0m\u001b[0m\n",
      "\u001b[0;31mAttributeError\u001b[0m: 'DataFrame' object has no attribute 'ID'"
     ]
    }
   ],
   "source": [
    "sampleddata['ID'] = sampleddata.ID.apply(lambda x: x.replace(x.split('_')[0],'mul'))\n",
    "sampleddata.head()"
   ]
  },
  {
   "cell_type": "code",
   "execution_count": 55,
   "metadata": {},
   "outputs": [],
   "source": [
    "sampleddata.to_csv('sampleuniall-language_train.tsv',sep='\\t')#,index=False)"
   ]
  },
  {
   "cell_type": "code",
   "execution_count": null,
   "metadata": {},
   "outputs": [],
   "source": []
  },
  {
   "cell_type": "code",
   "execution_count": null,
   "metadata": {},
   "outputs": [],
   "source": []
  }
 ],
 "metadata": {
  "kernelspec": {
   "display_name": "Python 3",
   "language": "python",
   "name": "python3"
  },
  "language_info": {
   "codemirror_mode": {
    "name": "ipython",
    "version": 3
   },
   "file_extension": ".py",
   "mimetype": "text/x-python",
   "name": "python",
   "nbconvert_exporter": "python",
   "pygments_lexer": "ipython3",
   "version": "3.8.5"
  }
 },
 "nbformat": 4,
 "nbformat_minor": 4
}
