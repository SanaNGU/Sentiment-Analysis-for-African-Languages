{
 "cells": [
  {
   "cell_type": "markdown",
   "metadata": {},
   "source": [
    " "
   ]
  },
  {
   "cell_type": "code",
   "execution_count": null,
   "metadata": {},
   "outputs": [],
   "source": [
    " "
   ]
  },
  {
   "cell_type": "code",
   "execution_count": 6,
   "metadata": {},
   "outputs": [
    {
     "name": "stdout",
     "output_type": "stream",
     "text": [
      "Data statistcs for are \n",
      "neutral     20879\n",
      "positive    17856\n",
      "negative    17363\n",
      "Name: label, dtype: int64\n"
     ]
    },
    {
     "name": "stderr",
     "output_type": "stream",
     "text": [
      "/home/sanala/anaconda3/lib/python3.8/site-packages/seaborn/_decorators.py:36: FutureWarning: Pass the following variable as a keyword arg: x. From version 0.12, the only valid positional argument will be `data`, and passing other arguments without an explicit keyword will result in an error or misinterpretation.\n",
      "  warnings.warn(\n"
     ]
    },
    {
     "data": {
      "image/png": "[encoded data removed]",
      "text/plain": [
       "<Figure size 432x288 with 1 Axes>"
      ]
     },
     "metadata": {
      "needs_background": "light"
     },
     "output_type": "display_data"
    }
   ],
   "source": [
    "import pandas as pd\n",
    "import os\n",
    "import seaborn as sns\n",
    "from matplotlib import pyplot as plt\n",
    "DataPath= '/home/sanala/Juputer try/afrisenti/TaskB/'   #change it to your path\n",
    "#data\n",
    "train_data = pd.read_csv(DataPath+'multilingual_train.tsv', sep='\\t')\n",
    "print(f\"Data statistcs for are \\n{train_data['label'].value_counts()}\")\n",
    "sns.countplot(train_data.label)\n",
    "plt.xlabel(f\"label for multilingual_train\")\n",
    "plt.show()\n",
    " "
   ]
  },
  {
   "cell_type": "code",
   "execution_count": 7,
   "metadata": {},
   "outputs": [
    {
     "name": "stdout",
     "output_type": "stream",
     "text": [
      "Data statistcs for are \n",
      "neutral     22794\n",
      "positive    20783\n",
      "negative    20108\n",
      "Name: label, dtype: int64\n"
     ]
    },
    {
     "name": "stderr",
     "output_type": "stream",
     "text": [
      "/home/sanala/anaconda3/lib/python3.8/site-packages/seaborn/_decorators.py:36: FutureWarning: Pass the following variable as a keyword arg: x. From version 0.12, the only valid positional argument will be `data`, and passing other arguments without an explicit keyword will result in an error or misinterpretation.\n",
      "  warnings.warn(\n"
     ]
    },
    {
     "data": {
      "image/png": "[encoded data removed]",
      "text/plain": [
       "<Figure size 432x288 with 1 Axes>"
      ]
     },
     "metadata": {
      "needs_background": "light"
     },
     "output_type": "display_data"
    }
   ],
   "source": [
    "import pandas as pd\n",
    "import os\n",
    "import seaborn as sns\n",
    "from matplotlib import pyplot as plt\n",
    "DataPath= '/home/sanala/Juputer try/afrisenti/TaskB/'   #change it to your path\n",
    "#data\n",
    "train_data = pd.read_csv(DataPath+'multilingual_train.tsv', sep='\\t')\n",
    "print(f\"Data statistcs for are \\n{train_data['label'].value_counts()}\")\n",
    "sns.countplot(train_data.label)\n",
    "plt.xlabel(f\"label for multilingual_train\")\n",
    "plt.show()\n",
    " "
   ]
  },
  {
   "cell_type": "markdown",
   "metadata": {},
   "source": [
    " "
   ]
  },
  {
   "cell_type": "code",
   "execution_count": 12,
   "metadata": {},
   "outputs": [
    {
     "name": "stdout",
     "output_type": "stream",
     "text": [
      "6094\n",
      "6094\n"
     ]
    }
   ],
   "source": [
    "  ##dublication cheack\n",
    "\n",
    "t_DataPath= '/home/sanala/Juputer try/afrisenti/TaskB/'   #change it to your path\n",
    "train_data = pd.read_csv(os.path.join(t_DataPath,'multilingual_train.tsv'), sep='\\t')\n",
    "d_DataPath= '/home/sanala/Juputer try/afrisenti/TaskB/'   #change it to your path\n",
    "dev_gold=dev_data = pd.read_csv(os.path.join(d_DataPath,'multilingual_dev_gold_label.tsv'), sep='\\t')\n",
    "all = [train_data,dev_gold]\n",
    "all_data = pd.concat(all)\n",
    "#print(all_data[all_data.iloc[:,1].duplicated(keep=False).values])\n",
    "print(len (all_data[all_data.iloc[:,1].duplicated(keep=False).values]))\n",
    "all_data\n",
    "all_data=all_data.reset_index(drop=True)\n",
    "print(len (all_data[all_data.iloc[:,1].duplicated(keep=False).values]))\n",
    "\n",
    "all_data.to_csv('train_dev.tsv', sep='\\t', index=False)\n",
    "\n"
   ]
  },
  {
   "cell_type": "code",
   "execution_count": 13,
   "metadata": {},
   "outputs": [
    {
     "data": {
      "text/html": [
       "<div>\n",
       "<style scoped>\n",
       "    .dataframe tbody tr th:only-of-type {\n",
       "        vertical-align: middle;\n",
       "    }\n",
       "\n",
       "    .dataframe tbody tr th {\n",
       "        vertical-align: top;\n",
       "    }\n",
       "\n",
       "    .dataframe thead th {\n",
       "        text-align: right;\n",
       "    }\n",
       "</style>\n",
       "<table border=\"1\" class=\"dataframe\">\n",
       "  <thead>\n",
       "    <tr style=\"text-align: right;\">\n",
       "      <th></th>\n",
       "      <th>ID</th>\n",
       "      <th>tweet</th>\n",
       "      <th>label</th>\n",
       "    </tr>\n",
       "  </thead>\n",
       "  <tbody>\n",
       "    <tr>\n",
       "      <th>0</th>\n",
       "      <td>mul_train_00001</td>\n",
       "      <td>if i dey enter your eye or you like me and no ...</td>\n",
       "      <td>positive</td>\n",
       "    </tr>\n",
       "    <tr>\n",
       "      <th>1</th>\n",
       "      <td>mul_train_00002</td>\n",
       "      <td>@user @user Ndi igbo is na ara di na udi</td>\n",
       "      <td>negative</td>\n",
       "    </tr>\n",
       "    <tr>\n",
       "      <th>2</th>\n",
       "      <td>mul_train_00003</td>\n",
       "      <td>كاملين بيوكوم عنستفكوم من فوق شواية الا بنكيرا...</td>\n",
       "      <td>negative</td>\n",
       "    </tr>\n",
       "    <tr>\n",
       "      <th>3</th>\n",
       "      <td>mul_train_00004</td>\n",
       "      <td>SAMIA ATOA ANGALIZO KUIKABILI SARATANI Makamu ...</td>\n",
       "      <td>neutral</td>\n",
       "    </tr>\n",
       "    <tr>\n",
       "      <th>4</th>\n",
       "      <td>mul_train_00005</td>\n",
       "      <td>5. Dùnùndún, ọ̀jọ̀jọ̀, ____ Ẹ̀bà, ____, àmàlà ...</td>\n",
       "      <td>neutral</td>\n",
       "    </tr>\n",
       "    <tr>\n",
       "      <th>...</th>\n",
       "      <td>...</td>\n",
       "      <td>...</td>\n",
       "      <td>...</td>\n",
       "    </tr>\n",
       "    <tr>\n",
       "      <th>77333</th>\n",
       "      <td>mul_dev_13649</td>\n",
       "      <td>ለህልም እንዴት ጥሩ ነው?  አሁንም ስለእናንተ አልመኝ.  የተረሳዎትን መ...</td>\n",
       "      <td>positive</td>\n",
       "    </tr>\n",
       "    <tr>\n",
       "      <th>77334</th>\n",
       "      <td>mul_dev_13650</td>\n",
       "      <td>የኢትዮጵያ የመከላከያና ደህንነት በአረብ አገራት እንድወድቅ አብይ አህመድ...</td>\n",
       "      <td>negative</td>\n",
       "    </tr>\n",
       "    <tr>\n",
       "      <th>77335</th>\n",
       "      <td>mul_dev_13651</td>\n",
       "      <td>@user Haba mustapha, da samu da rashi duk na A...</td>\n",
       "      <td>neutral</td>\n",
       "    </tr>\n",
       "    <tr>\n",
       "      <th>77336</th>\n",
       "      <td>mul_dev_13652</td>\n",
       "      <td>im not even looking for any female right now i...</td>\n",
       "      <td>negative</td>\n",
       "    </tr>\n",
       "    <tr>\n",
       "      <th>77337</th>\n",
       "      <td>mul_dev_13653</td>\n",
       "      <td>Jẹ kí n jẹ ní í mú ayò dùn. #EsinOro #Yoruba</td>\n",
       "      <td>positive</td>\n",
       "    </tr>\n",
       "  </tbody>\n",
       "</table>\n",
       "<p>77338 rows × 3 columns</p>\n",
       "</div>"
      ],
      "text/plain": [
       "                    ID                                              tweet  \\\n",
       "0      mul_train_00001  if i dey enter your eye or you like me and no ...   \n",
       "1      mul_train_00002           @user @user Ndi igbo is na ara di na udi   \n",
       "2      mul_train_00003  كاملين بيوكوم عنستفكوم من فوق شواية الا بنكيرا...   \n",
       "3      mul_train_00004  SAMIA ATOA ANGALIZO KUIKABILI SARATANI Makamu ...   \n",
       "4      mul_train_00005  5. Dùnùndún, ọ̀jọ̀jọ̀, ____ Ẹ̀bà, ____, àmàlà ...   \n",
       "...                ...                                                ...   \n",
       "77333    mul_dev_13649  ለህልም እንዴት ጥሩ ነው?  አሁንም ስለእናንተ አልመኝ.  የተረሳዎትን መ...   \n",
       "77334    mul_dev_13650  የኢትዮጵያ የመከላከያና ደህንነት በአረብ አገራት እንድወድቅ አብይ አህመድ...   \n",
       "77335    mul_dev_13651  @user Haba mustapha, da samu da rashi duk na A...   \n",
       "77336    mul_dev_13652  im not even looking for any female right now i...   \n",
       "77337    mul_dev_13653       Jẹ kí n jẹ ní í mú ayò dùn. #EsinOro #Yoruba   \n",
       "\n",
       "          label  \n",
       "0      positive  \n",
       "1      negative  \n",
       "2      negative  \n",
       "3       neutral  \n",
       "4       neutral  \n",
       "...         ...  \n",
       "77333  positive  \n",
       "77334  negative  \n",
       "77335   neutral  \n",
       "77336  negative  \n",
       "77337  positive  \n",
       "\n",
       "[77338 rows x 3 columns]"
      ]
     },
     "execution_count": 13,
     "metadata": {},
     "output_type": "execute_result"
    }
   ],
   "source": [
    "all_data"
   ]
  },
  {
   "cell_type": "code",
   "execution_count": null,
   "metadata": {},
   "outputs": [],
   "source": [
    " "
   ]
  },
  {
   "cell_type": "code",
   "execution_count": null,
   "metadata": {},
   "outputs": [],
   "source": [
    " "
   ]
  },
  {
   "cell_type": "code",
   "execution_count": null,
   "metadata": {},
   "outputs": [],
   "source": [
    " "
   ]
  },
  {
   "cell_type": "code",
   "execution_count": null,
   "metadata": {},
   "outputs": [],
   "source": [
    " \n"
   ]
  },
  {
   "cell_type": "code",
   "execution_count": null,
   "metadata": {},
   "outputs": [],
   "source": [
    " "
   ]
  },
  {
   "cell_type": "code",
   "execution_count": null,
   "metadata": {},
   "outputs": [],
   "source": [
    " "
   ]
  },
  {
   "cell_type": "code",
   "execution_count": null,
   "metadata": {},
   "outputs": [],
   "source": [
    " "
   ]
  },
  {
   "cell_type": "code",
   "execution_count": 64,
   "metadata": {},
   "outputs": [],
   "source": [
    " "
   ]
  },
  {
   "cell_type": "code",
   "execution_count": null,
   "metadata": {},
   "outputs": [],
   "source": []
  }
 ],
 "metadata": {
  "kernelspec": {
   "display_name": "env-hsd",
   "language": "python",
   "name": "env-hsd"
  },
  "language_info": {
   "codemirror_mode": {
    "name": "ipython",
    "version": 3
   },
   "file_extension": ".py",
   "mimetype": "text/x-python",
   "name": "python",
   "nbconvert_exporter": "python",
   "pygments_lexer": "ipython3",
   "version": "3.8.5"
  }
 },
 "nbformat": 4,
 "nbformat_minor": 4
}
