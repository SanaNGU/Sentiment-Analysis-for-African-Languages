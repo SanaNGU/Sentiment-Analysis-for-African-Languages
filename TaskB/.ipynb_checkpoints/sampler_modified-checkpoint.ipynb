{
 "cells": [
  {
   "cell_type": "code",
   "execution_count": 47,
   "metadata": {},
   "outputs": [],
   "source": [
    "# create subset uniformly\n",
    "langtags = {'am':'<am>', 'dz':'<dz>', 'ha':'<ha>', 'ig':'<ig>', 'kr':'<kr>', 'ma':'<ma>', 'pcm':'<pcm>', 'pt':'<pt>', 'sw':'<sw>', 'ts':'<ts>', 'twi':'<twi>', 'yo':'<yo>'}\n",
    "tags = [item for item in langtags.items()]"
   ]
  },
  {
   "cell_type": "code",
   "execution_count": 48,
   "metadata": {},
   "outputs": [],
   "source": [
    "import pandas as pd\n",
    "import os\n",
    "\n",
    "class languages:\n",
    "    def __init__(self, code, datapath):\n",
    "        path = os.path.join(datapath, code+'_train.tsv')\n",
    "        self.df = pd.read_csv(path, sep='\\t', index_col=0)\n",
    "        self.df = self.df.dropna()\n",
    "        self.df['tag'] = code\n",
    "        # self.df['label'].value_counts()\n",
    "        self.code = code\n",
    "    \n",
    "    def getmax(self):\n",
    "        return self.df['tag'].value_counts().max()\n",
    "    \n",
    "    def getmin(self):\n",
    "        return self.df['tag'].value_counts().min()\n",
    "    \n",
    "    def getsum(self):\n",
    "        return self.df['tag'].value_counts().sum()\n",
    "    \n",
    "    def sampleuniallclass(self, k):\n",
    "        # uniformly sample across class and language\n",
    "        return k.sample(self.nSamples, replace=True)\n",
    "    \n",
    "    def sampleuniall(self, nSamples=1):\n",
    "        self.nSamples = nSamples\n",
    "        sam = self.df.groupby('tag').apply(self.sampleuniallclass)\n",
    "        return sam\n",
    "    \n",
    "    def mergesampleall(self):\n",
    "        return self.df\n",
    "    "
   ]
  },
  {
   "cell_type": "code",
   "execution_count": 49,
   "metadata": {},
   "outputs": [],
   "source": [
    "alllangsObjs = [languages(item,'./SubtaskA') for item in langtags]"
   ]
  },
  {
   "cell_type": "code",
   "execution_count": 50,
   "metadata": {},
   "outputs": [],
   "source": [
    "uniformall = True\n",
    "# mergeall = True\n",
    "#uniformclass = False\n",
    "if uniformall:\n",
    "    # sample the data based on the class with the highest number of instances across languages\n",
    "    minlabelsize = max([item.getmax() for item in alllangsObjs])\n",
    "    classsample = [item.sampleuniall(nSamples = minlabelsize)  for item in alllangsObjs]\n",
    "    sampleddata = pd.concat(classsample)\n",
    "elif mergeall:\n",
    "    # concatenate all the data without any extra sampling\n",
    "    classsample = [item.mergesampleall() for item in alllangsObjs]\n",
    "    sampleddata = pd.concat(classsample)"
   ]
  },
  {
   "cell_type": "code",
   "execution_count": 51,
   "metadata": {},
   "outputs": [
    {
     "data": {
      "text/html": [
       "<div>\n",
       "<style scoped>\n",
       "    .dataframe tbody tr th:only-of-type {\n",
       "        vertical-align: middle;\n",
       "    }\n",
       "\n",
       "    .dataframe tbody tr th {\n",
       "        vertical-align: top;\n",
       "    }\n",
       "\n",
       "    .dataframe thead th {\n",
       "        text-align: right;\n",
       "    }\n",
       "</style>\n",
       "<table border=\"1\" class=\"dataframe\">\n",
       "  <thead>\n",
       "    <tr style=\"text-align: right;\">\n",
       "      <th></th>\n",
       "      <th></th>\n",
       "      <th>tweet</th>\n",
       "      <th>label</th>\n",
       "      <th>tag</th>\n",
       "    </tr>\n",
       "    <tr>\n",
       "      <th>tag</th>\n",
       "      <th>ID</th>\n",
       "      <th></th>\n",
       "      <th></th>\n",
       "      <th></th>\n",
       "    </tr>\n",
       "  </thead>\n",
       "  <tbody>\n",
       "    <tr>\n",
       "      <th rowspan=\"5\" valign=\"top\">am</th>\n",
       "      <th>am_train_03618</th>\n",
       "      <td>በሙስሊሞች የሚጠበቀው የአይሁዶች ቤተ መቅደስ</td>\n",
       "      <td>neutral</td>\n",
       "      <td>am</td>\n",
       "    </tr>\n",
       "    <tr>\n",
       "      <th>am_train_01343</th>\n",
       "      <td>እንዲህ እቅጭ እቅጩን ግልጽ ባደባባይ እስካልተነጋገርን የውሸት መደመር፣ ...</td>\n",
       "      <td>negative</td>\n",
       "      <td>am</td>\n",
       "    </tr>\n",
       "    <tr>\n",
       "      <th>am_train_02324</th>\n",
       "      <td>በጉጉት የሚጠበቀው ታላቁ የአርሰናል እና ማን ዩናይትድ ፍልሚያ...</td>\n",
       "      <td>neutral</td>\n",
       "      <td>am</td>\n",
       "    </tr>\n",
       "    <tr>\n",
       "      <th>am_train_02430</th>\n",
       "      <td>አቶ ንጉሱ ጥላሁን ናቸው የተናገሩት ግን የበለጠ ነው ግራ ያጋቡን።</td>\n",
       "      <td>neutral</td>\n",
       "      <td>am</td>\n",
       "    </tr>\n",
       "    <tr>\n",
       "      <th>am_train_05156</th>\n",
       "      <td>እሁድ ከሰዓት በኋላ ነው። ነገን የራሳቸው ማድረግ፣ ትናንታቸውን ተሞርክዘ...</td>\n",
       "      <td>positive</td>\n",
       "      <td>am</td>\n",
       "    </tr>\n",
       "  </tbody>\n",
       "</table>\n",
       "</div>"
      ],
      "text/plain": [
       "                                                                tweet  \\\n",
       "tag ID                                                                  \n",
       "am  am_train_03618                       በሙስሊሞች የሚጠበቀው የአይሁዶች ቤተ መቅደስ   \n",
       "    am_train_01343  እንዲህ እቅጭ እቅጩን ግልጽ ባደባባይ እስካልተነጋገርን የውሸት መደመር፣ ...   \n",
       "    am_train_02324         በጉጉት የሚጠበቀው ታላቁ የአርሰናል እና ማን ዩናይትድ ፍልሚያ...   \n",
       "    am_train_02430         አቶ ንጉሱ ጥላሁን ናቸው የተናገሩት ግን የበለጠ ነው ግራ ያጋቡን።   \n",
       "    am_train_05156  እሁድ ከሰዓት በኋላ ነው። ነገን የራሳቸው ማድረግ፣ ትናንታቸውን ተሞርክዘ...   \n",
       "\n",
       "                       label tag  \n",
       "tag ID                            \n",
       "am  am_train_03618   neutral  am  \n",
       "    am_train_01343  negative  am  \n",
       "    am_train_02324   neutral  am  \n",
       "    am_train_02430   neutral  am  \n",
       "    am_train_05156  positive  am  "
      ]
     },
     "execution_count": 51,
     "metadata": {},
     "output_type": "execute_result"
    }
   ],
   "source": [
    "sampleddata.head()"
   ]
  },
  {
   "cell_type": "code",
   "execution_count": 52,
   "metadata": {},
   "outputs": [],
   "source": [
    "# sampleddata = pd.read_csv('sampleuniall_dev.tsv',sep='\\t')\n",
    "# sampleddata.head()"
   ]
  },
  {
   "cell_type": "code",
   "execution_count": 53,
   "metadata": {},
   "outputs": [
    {
     "data": {
      "text/plain": [
       "Index(['tweet', 'label', 'tag'], dtype='object')"
      ]
     },
     "execution_count": 53,
     "metadata": {},
     "output_type": "execute_result"
    }
   ],
   "source": [
    "sampleddata.columns"
   ]
  },
  {
   "cell_type": "code",
   "execution_count": 29,
   "metadata": {},
   "outputs": [
    {
     "data": {
      "text/html": [
       "<div>\n",
       "<style scoped>\n",
       "    .dataframe tbody tr th:only-of-type {\n",
       "        vertical-align: middle;\n",
       "    }\n",
       "\n",
       "    .dataframe tbody tr th {\n",
       "        vertical-align: top;\n",
       "    }\n",
       "\n",
       "    .dataframe thead th {\n",
       "        text-align: right;\n",
       "    }\n",
       "</style>\n",
       "<table border=\"1\" class=\"dataframe\">\n",
       "  <thead>\n",
       "    <tr style=\"text-align: right;\">\n",
       "      <th></th>\n",
       "      <th>ID</th>\n",
       "      <th>tweet</th>\n",
       "      <th>tag</th>\n",
       "    </tr>\n",
       "  </thead>\n",
       "  <tbody>\n",
       "    <tr>\n",
       "      <th>0</th>\n",
       "      <td>mul_dev_00001</td>\n",
       "      <td>The only part I like......ትልልቅ የነዳጅ ፍጆታ ያላቸው ተ...</td>\n",
       "      <td>am</td>\n",
       "    </tr>\n",
       "    <tr>\n",
       "      <th>1</th>\n",
       "      <td>mul_dev_00002</td>\n",
       "      <td>ኦቦ ቡልቻን ከልብ እንደምወዳቸውና እንደ እንደማከብራቸው እንዲታወቅ ይሁን...</td>\n",
       "      <td>am</td>\n",
       "    </tr>\n",
       "    <tr>\n",
       "      <th>2</th>\n",
       "      <td>mul_dev_00003</td>\n",
       "      <td>40/60 ኮንዶሚኒየም ከሆነ እመልሳለሁ ካልሆነ መልሴን አላባክንም!</td>\n",
       "      <td>am</td>\n",
       "    </tr>\n",
       "    <tr>\n",
       "      <th>3</th>\n",
       "      <td>mul_dev_00004</td>\n",
       "      <td>የሚባክን ጊዜ መኖር የለበትም። ዳይ ወደ ሥራ! ??</td>\n",
       "      <td>am</td>\n",
       "    </tr>\n",
       "    <tr>\n",
       "      <th>4</th>\n",
       "      <td>mul_dev_00005</td>\n",
       "      <td>የጎንደር ዩኒቨርሲቲ በ65 ተማሪዎች፣መምህራንና የአስተዳደር ሰራተኞቹ ላይ...</td>\n",
       "      <td>am</td>\n",
       "    </tr>\n",
       "  </tbody>\n",
       "</table>\n",
       "</div>"
      ],
      "text/plain": [
       "              ID                                              tweet tag\n",
       "0  mul_dev_00001  The only part I like......ትልልቅ የነዳጅ ፍጆታ ያላቸው ተ...  am\n",
       "1  mul_dev_00002  ኦቦ ቡልቻን ከልብ እንደምወዳቸውና እንደ እንደማከብራቸው እንዲታወቅ ይሁን...  am\n",
       "2  mul_dev_00003         40/60 ኮንዶሚኒየም ከሆነ እመልሳለሁ ካልሆነ መልሴን አላባክንም!  am\n",
       "3  mul_dev_00004                   የሚባክን ጊዜ መኖር የለበትም። ዳይ ወደ ሥራ! ??  am\n",
       "4  mul_dev_00005  የጎንደር ዩኒቨርሲቲ በ65 ተማሪዎች፣መምህራንና የአስተዳደር ሰራተኞቹ ላይ...  am"
      ]
     },
     "execution_count": 29,
     "metadata": {},
     "output_type": "execute_result"
    }
   ],
   "source": [
    "sampleddata['ID'] = sampleddata.ID.apply(lambda x: x.replace(x.split('_')[0],'mul'))\n",
    "sampleddata.head()"
   ]
  },
  {
   "cell_type": "code",
   "execution_count": 55,
   "metadata": {},
   "outputs": [],
   "source": [
    "sampleddata.to_csv('sampleuniall-language_train.tsv',sep='\\t')#,index=False)"
   ]
  },
  {
   "cell_type": "code",
   "execution_count": null,
   "metadata": {},
   "outputs": [],
   "source": []
  },
  {
   "cell_type": "code",
   "execution_count": null,
   "metadata": {},
   "outputs": [],
   "source": []
  }
 ],
 "metadata": {
  "kernelspec": {
   "display_name": "Python 3 (ipykernel)",
   "language": "python",
   "name": "python3"
  },
  "language_info": {
   "codemirror_mode": {
    "name": "ipython",
    "version": 3
   },
   "file_extension": ".py",
   "mimetype": "text/x-python",
   "name": "python",
   "nbconvert_exporter": "python",
   "pygments_lexer": "ipython3",
   "version": "3.9.12"
  }
 },
 "nbformat": 4,
 "nbformat_minor": 4
}
