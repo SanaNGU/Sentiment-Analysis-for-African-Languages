{
 "cells": [
  {
   "cell_type": "code",
   "execution_count": null,
   "metadata": {},
   "outputs": [],
   "source": [
    "!python run_train_taskB.py  --model_name  'cardiffnlp/twitter-xlm-roberta-base-sentiment'  --learning_rate 5e-5 --epoch 5.0 --output_dir 'cardiffnlp/twitter-xlm-roberta-base-sentiment-multilingual'  "
   ]
  },
  {
   "cell_type": "code",
   "execution_count": null,
   "metadata": {},
   "outputs": [],
   "source": [
    "!python run_train_taskB.py  --model_name  'Davlan/afro-xlmr-base'  --learning_rate 5e-5 --epoch 5.0 --output_dir 'Davlan/afro-xlmr-base-multilingual'  "
   ]
  },
  {
   "cell_type": "code",
   "execution_count": null,
   "metadata": {},
   "outputs": [],
   "source": []
  },
  {
   "cell_type": "code",
   "execution_count": 1,
   "metadata": {},
   "outputs": [
    {
     "name": "stdout",
     "output_type": "stream",
     "text": [
      "2023-01-31 23:37:16.276292: W tensorflow/stream_executor/platform/default/dso_loader.cc:64] Could not load dynamic library 'libcudart.so.11.0'; dlerror: libcudart.so.11.0: cannot open shared object file: No such file or directory\n",
      "2023-01-31 23:37:16.276330: I tensorflow/stream_executor/cuda/cudart_stub.cc:29] Ignore above cudart dlerror if you do not have a GPU set up on your machine.\n",
      "***** Running Prediction *****\n",
      "  Num examples = 30211\n",
      "  Batch size = 8\n",
      "100%|██████████████████████████████████████▉| 3776/3777 [01:50<00:00, 34.30it/s]Data directory found.\n",
      "Creating submission files directory.\n",
      "100%|███████████████████████████████████████| 3777/3777 [01:51<00:00, 33.79it/s]\n"
     ]
    }
   ],
   "source": [
    "!python run_predict.py  --model_name  'cardiffnlp/twitter-xlm-roberta-base-sentiment'  --output_dir 'cardiffnlp/twitter-xlm-roberta-base-sentiment-multilingual'  "
   ]
  },
  {
   "cell_type": "code",
   "execution_count": null,
   "metadata": {},
   "outputs": [],
   "source": []
  },
  {
   "cell_type": "code",
   "execution_count": null,
   "metadata": {},
   "outputs": [],
   "source": [
    "!python run_predict_taskA.py  --model_name  'setu4993/LaBSE' --language am  --output_dir  'setu4993/LaBSE-multilingual'  "
   ]
  },
  {
   "cell_type": "code",
   "execution_count": null,
   "metadata": {},
   "outputs": [],
   "source": []
  },
  {
   "cell_type": "code",
   "execution_count": null,
   "metadata": {},
   "outputs": [],
   "source": []
  },
  {
   "cell_type": "code",
   "execution_count": null,
   "metadata": {},
   "outputs": [],
   "source": [
    "!python run_predict.py  --model_name  'setu4993/LaBSE'  --output_dir 'Davlan/afro-xlmr-large-multilingual'  "
   ]
  },
  {
   "cell_type": "code",
   "execution_count": null,
   "metadata": {},
   "outputs": [],
   "source": []
  },
  {
   "cell_type": "code",
   "execution_count": null,
   "metadata": {},
   "outputs": [],
   "source": []
  },
  {
   "cell_type": "code",
   "execution_count": null,
   "metadata": {},
   "outputs": [],
   "source": [
    "!python run_train_taskB.py  --model_name  'castorini/afriberta_large'  --learning_rate 5e-5 --epoch 5.0 --output_dir 'castorini/afriberta_large-multilingual'  "
   ]
  },
  {
   "cell_type": "code",
   "execution_count": null,
   "metadata": {},
   "outputs": [],
   "source": []
  },
  {
   "cell_type": "code",
   "execution_count": null,
   "metadata": {},
   "outputs": [],
   "source": []
  },
  {
   "cell_type": "code",
   "execution_count": 36,
   "metadata": {},
   "outputs": [
    {
     "name": "stdout",
     "output_type": "stream",
     "text": [
      "2023-01-17 17:35:16.951777: W tensorflow/stream_executor/platform/default/dso_loader.cc:64] Could not load dynamic library 'libcudart.so.11.0'; dlerror: libcudart.so.11.0: cannot open shared object file: No such file or directory\n",
      "2023-01-17 17:35:16.951808: I tensorflow/stream_executor/cuda/cudart_stub.cc:29] Ignore above cudart dlerror if you do not have a GPU set up on your machine.\n",
      "***** Running Prediction *****\n",
      "  Num examples = 13653\n",
      "  Batch size = 8\n",
      "100%|██████████████████████████████████████▉| 1706/1707 [02:45<00:00, 10.32it/s]Data directory found.\n",
      "Creating submission files directory.\n",
      "100%|███████████████████████████████████████| 1707/1707 [02:46<00:00, 10.27it/s]\n"
     ]
    }
   ],
   "source": [
    "!python run_predict.py  --model_name  'Davlan/afro-xlmr-large'  --output_dir 'Davlan/afro-xlmr-large-multilingual'  "
   ]
  },
  {
   "cell_type": "code",
   "execution_count": 27,
   "metadata": {},
   "outputs": [
    {
     "name": "stdout",
     "output_type": "stream",
     "text": [
      "2023-01-12 12:23:46.883883: W tensorflow/stream_executor/platform/default/dso_loader.cc:64] Could not load dynamic library 'libcudart.so.11.0'; dlerror: libcudart.so.11.0: cannot open shared object file: No such file or directory\n",
      "2023-01-12 12:23:46.883923: I tensorflow/stream_executor/cuda/cudart_stub.cc:29] Ignore above cudart dlerror if you do not have a GPU set up on your machine.\n",
      "***** Running Prediction *****\n",
      "  Num examples = 13653\n",
      "  Batch size = 8\n",
      "100%|██████████████████████████████████████▉| 1705/1707 [00:48<00:00, 35.40it/s]Data directory found.\n",
      "Creating submission files directory.\n",
      "100%|███████████████████████████████████████| 1707/1707 [00:49<00:00, 34.82it/s]\n"
     ]
    }
   ],
   "source": [
    "!python run_predict.py  --model_name  'cardiffnlp/twitter-xlm-roberta-base-sentiment'  --output_dir 'cardiffnlp/twitter-xlm-roberta-base-sentiment-multilingual'  "
   ]
  },
  {
   "cell_type": "code",
   "execution_count": 32,
   "metadata": {},
   "outputs": [
    {
     "name": "stdout",
     "output_type": "stream",
     "text": [
      "2023-01-12 13:48:29.752916: W tensorflow/stream_executor/platform/default/dso_loader.cc:64] Could not load dynamic library 'libcudart.so.11.0'; dlerror: libcudart.so.11.0: cannot open shared object file: No such file or directory\n",
      "2023-01-12 13:48:29.752943: I tensorflow/stream_executor/cuda/cudart_stub.cc:29] Ignore above cudart dlerror if you do not have a GPU set up on your machine.\n",
      "The `xla_device` argument has been deprecated in v4.4.0 of Transformers. It is ignored and you can safely remove it from your `config.json` file.\n",
      "The `xla_device` argument has been deprecated in v4.4.0 of Transformers. It is ignored and you can safely remove it from your `config.json` file.\n",
      "***** Running Prediction *****\n",
      "  Num examples = 13653\n",
      "  Batch size = 8\n",
      "100%|███████████████████████████████████████| 1707/1707 [01:56<00:00, 15.18it/s]Data directory found.\n",
      "Creating submission files directory.\n",
      "100%|███████████████████████████████████████| 1707/1707 [01:57<00:00, 14.58it/s]\n"
     ]
    }
   ],
   "source": [
    "!python run_predict.py  --model_name  'SI2M-Lab/DarijaBERT'  --output_dir 'SI2M-Lab/DarijaBERT-multilingual'  "
   ]
  },
  {
   "cell_type": "code",
   "execution_count": 39,
   "metadata": {},
   "outputs": [
    {
     "name": "stdout",
     "output_type": "stream",
     "text": [
      "2023-01-17 22:54:03.303910: W tensorflow/stream_executor/platform/default/dso_loader.cc:64] Could not load dynamic library 'libcudart.so.11.0'; dlerror: libcudart.so.11.0: cannot open shared object file: No such file or directory\n",
      "2023-01-17 22:54:03.303942: I tensorflow/stream_executor/cuda/cudart_stub.cc:29] Ignore above cudart dlerror if you do not have a GPU set up on your machine.\n",
      "Downloading: 100%|██████████████████████████████| 841/841 [00:00<00:00, 883kB/s]\n",
      "Downloading: 100%|█████████████████████████| 4.83M/4.83M [00:00<00:00, 12.2MB/s]\n",
      "Downloading: 100%|██████████████████████████████| 150/150 [00:00<00:00, 137kB/s]\n",
      "***** Running Prediction *****\n",
      "  Num examples = 396\n",
      "  Batch size = 8\n",
      "100%|███████████████████████████████████████████| 50/50 [00:01<00:00, 36.45it/s]Data directory found.\n",
      "100%|███████████████████████████████████████████| 50/50 [00:01<00:00, 25.11it/s]\n"
     ]
    }
   ],
   "source": [
    "!python run_predict.py  --model_name  'cardiffnlp/twitter-xlm-roberta-base-sentiment'  --output_dir 'cardiffnlp/twitter-xlm-roberta-base-sentiment-multilingual'   "
   ]
  },
  {
   "cell_type": "code",
   "execution_count": 47,
   "metadata": {},
   "outputs": [
    {
     "name": "stdout",
     "output_type": "stream",
     "text": [
      "2023-01-17 23:11:57.445778: W tensorflow/stream_executor/platform/default/dso_loader.cc:64] Could not load dynamic library 'libcudart.so.11.0'; dlerror: libcudart.so.11.0: cannot open shared object file: No such file or directory\n",
      "2023-01-17 23:11:57.445843: I tensorflow/stream_executor/cuda/cudart_stub.cc:29] Ignore above cudart dlerror if you do not have a GPU set up on your machine.\n",
      "***** Running Prediction *****\n",
      "  Num examples = 398\n",
      "  Batch size = 8\n",
      "100%|███████████████████████████████████████████| 50/50 [00:01<00:00, 35.52it/s]Data directory found.\n",
      "100%|███████████████████████████████████████████| 50/50 [00:01<00:00, 25.19it/s]\n"
     ]
    }
   ],
   "source": [
    "!python run_predict.py  --model_name  'cardiffnlp/twitter-xlm-roberta-base-sentiment'  --output_dir 'cardiffnlp/twitter-xlm-roberta-base-sentiment-multilingual'  "
   ]
  },
  {
   "cell_type": "code",
   "execution_count": 5,
   "metadata": {},
   "outputs": [
    {
     "name": "stdout",
     "output_type": "stream",
     "text": [
      "/home/sanala/anaconda3/lib/python3.8/site-packages/pandas/core/computation/expressions.py:20: UserWarning: Pandas requires version '2.7.3' or newer of 'numexpr' (version '2.7.1' currently installed).\n",
      "  from pandas.core.computation.check import NUMEXPR_INSTALLED\n",
      "              precision    recall  f1-score   support\n",
      "\n",
      "     neutral       0.66      0.72      0.69     10204\n",
      "    positive       0.69      0.57      0.63     10207\n",
      "    negative       0.69      0.74      0.72      9800\n",
      "\n",
      "    accuracy                           0.68     30211\n",
      "   macro avg       0.68      0.68      0.68     30211\n",
      "weighted avg       0.68      0.68      0.68     30211\n",
      "\n",
      "/home/sanala/anaconda3/lib/python3.8/site-packages/pandas/core/computation/expressions.py:20: UserWarning: Pandas requires version '2.7.3' or newer of 'numexpr' (version '2.7.1' currently installed).\n",
      "  from pandas.core.computation.check import NUMEXPR_INSTALLED\n",
      "              precision    recall  f1-score   support\n",
      "\n",
      "     neutral       0.58      0.70      0.63     10204\n",
      "    positive       0.63      0.54      0.58     10207\n",
      "    negative       0.69      0.64      0.66      9800\n",
      "\n",
      "    accuracy                           0.63     30211\n",
      "   macro avg       0.63      0.63      0.62     30211\n",
      "weighted avg       0.63      0.63      0.62     30211\n",
      "\n",
      "/home/sanala/anaconda3/lib/python3.8/site-packages/pandas/core/computation/expressions.py:20: UserWarning: Pandas requires version '2.7.3' or newer of 'numexpr' (version '2.7.1' currently installed).\n",
      "  from pandas.core.computation.check import NUMEXPR_INSTALLED\n",
      "              precision    recall  f1-score   support\n",
      "\n",
      "     neutral       0.66      0.73      0.70     10204\n",
      "    positive       0.69      0.59      0.64     10207\n",
      "    negative       0.70      0.73      0.72      9800\n",
      "\n",
      "    accuracy                           0.68     30211\n",
      "   macro avg       0.69      0.69      0.68     30211\n",
      "weighted avg       0.69      0.68      0.68     30211\n",
      "\n",
      "/home/sanala/anaconda3/lib/python3.8/site-packages/pandas/core/computation/expressions.py:20: UserWarning: Pandas requires version '2.7.3' or newer of 'numexpr' (version '2.7.1' currently installed).\n",
      "  from pandas.core.computation.check import NUMEXPR_INSTALLED\n",
      "              precision    recall  f1-score   support\n",
      "\n",
      "     neutral       0.64      0.73      0.68     10204\n",
      "    positive       0.68      0.54      0.60     10207\n",
      "    negative       0.68      0.73      0.70      9800\n",
      "\n",
      "    accuracy                           0.66     30211\n",
      "   macro avg       0.67      0.66      0.66     30211\n",
      "weighted avg       0.67      0.66      0.66     30211\n",
      "\n",
      "/home/sanala/anaconda3/lib/python3.8/site-packages/pandas/core/computation/expressions.py:20: UserWarning: Pandas requires version '2.7.3' or newer of 'numexpr' (version '2.7.1' currently installed).\n",
      "  from pandas.core.computation.check import NUMEXPR_INSTALLED\n",
      "              precision    recall  f1-score   support\n",
      "\n",
      "     neutral       0.68      0.76      0.72     10204\n",
      "    positive       0.72      0.61      0.66     10207\n",
      "    negative       0.72      0.76      0.74      9800\n",
      "\n",
      "    accuracy                           0.71     30211\n",
      "   macro avg       0.71      0.71      0.70     30211\n",
      "weighted avg       0.71      0.71      0.70     30211\n",
      "\n"
     ]
    }
   ],
   "source": [
    "!bash run_res.sh"
   ]
  },
  {
   "cell_type": "code",
   "execution_count": null,
   "metadata": {},
   "outputs": [],
   "source": []
  }
 ],
 "metadata": {
  "kernelspec": {
   "display_name": "env-hsd",
   "language": "python",
   "name": "env-hsd"
  },
  "language_info": {
   "codemirror_mode": {
    "name": "ipython",
    "version": 3
   },
   "file_extension": ".py",
   "mimetype": "text/x-python",
   "name": "python",
   "nbconvert_exporter": "python",
   "pygments_lexer": "ipython3",
   "version": "3.8.5"
  }
 },
 "nbformat": 4,
 "nbformat_minor": 4
}
